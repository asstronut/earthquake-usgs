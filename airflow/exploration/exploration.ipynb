{
 "cells": [
  {
   "cell_type": "code",
   "execution_count": 1,
   "id": "f43b9489-0282-4b49-9ec6-d7addc263a54",
   "metadata": {},
   "outputs": [],
   "source": [
    "import pandas as pd\n",
    "import requests as r\n",
    "import json"
   ]
  },
  {
   "cell_type": "markdown",
   "id": "68a004c5-a5b6-4d66-ae67-71ddf19bd9e8",
   "metadata": {},
   "source": [
    "# Data Ingestion"
   ]
  },
  {
   "cell_type": "markdown",
   "id": "8071097f-1a3b-4f59-b846-72ae8b89fcb5",
   "metadata": {},
   "source": [
    "Steps consists of:\n",
    "- Fetch json data from API\n",
    "- Save json data to local\n",
    "- Transform from json to parquet\n",
    "- Save parquet data to local\n",
    "- Upload json and parquet data to data lake"
   ]
  },
  {
   "cell_type": "markdown",
   "id": "9d562664-9e30-4205-9439-16cc1dc08f62",
   "metadata": {
    "jp-MarkdownHeadingCollapsed": true
   },
   "source": [
    "## Fetch Data"
   ]
  },
  {
   "cell_type": "markdown",
   "id": "96ab6cd9-ec8b-46e0-b390-23207d10bd8b",
   "metadata": {},
   "source": [
    "| Column name | Description | Data type |\n",
    "| --- | --- | --- |\n",
    "| time | The time of the earthquake. | Datetime |\n",
    "| latitude | The latitude of the earthquake. | Float |\n",
    "| longitude | The longitude of the earthquake. | Float |\n",
    "| depth | The depth of the earthquake. | Float |\n",
    "| mag | The magnitude of the earthquake. | Float |\n",
    "| magType | The type of magnitude measurement used. | String |\n",
    "| nst | The number of seismic stations used to calculate the magnitude. | Integer |\n",
    "| gap | The maximum angular distance between azimuthal gaps. | Float |\n",
    "| dmin | The distance to the nearest station. | Float |\n",
    "| rms | The root-mean-square travel time residual. | Float |\n",
    "| net | The network detected. | String |\n",
    "| id |  |  |\n",
    "| updated | The time the earthquake was last updated. | Datetime |\n",
    "| place | The location of the earthquake. | String |\n",
    "| type | | |\n",
    "| horizontalError | The horizontal error of the earthquake. | Float |\n",
    "| depthError | The depth error of the earthquake. | Float |\n",
    "| magError | The magnitude error of the earthquake. | Float |\n",
    "| magNst | The number of seismic stations used to calculate the magnitude error. | Integer |\n",
    "| status | The status of the earthquake. | String |\n",
    "| locationSource | The source of the location of the earthquake. | String |\n",
    "| magSource | | |arthquake. (String)"
   ]
  },
  {
   "cell_type": "code",
   "execution_count": 2,
   "id": "5befecc2-17da-4c03-92ad-b9b11c631590",
   "metadata": {},
   "outputs": [],
   "source": [
    "format = \"geojson\"\n",
    "starttime = \"2023-01-01\"\n",
    "endtime = \"2023-01-02\"\n",
    "\n",
    "response = r.get(f\"https://earthquake.usgs.gov/fdsnws/event/1/query?format={format}&starttime={starttime}&endtime={endtime}\")"
   ]
  },
  {
   "cell_type": "code",
   "execution_count": 3,
   "id": "3a785a60-83fd-4ea0-8b4f-2639cbfa9f69",
   "metadata": {},
   "outputs": [],
   "source": [
    "json_data = response.json()"
   ]
  },
  {
   "cell_type": "markdown",
   "id": "12fd4767-162a-4fea-b72b-eabbc6f22d3e",
   "metadata": {},
   "source": [
    "I want to know which data range retrieved from params `starttime=2023-01-01` & `endtime=2023-01-02`"
   ]
  },
  {
   "cell_type": "code",
   "execution_count": 4,
   "id": "68741093-6980-4f8f-aeee-4407d9988825",
   "metadata": {},
   "outputs": [],
   "source": [
    "import datetime"
   ]
  },
  {
   "cell_type": "code",
   "execution_count": 5,
   "id": "f26c2538-317e-430e-a805-d004eb4a1b7f",
   "metadata": {},
   "outputs": [
    {
     "name": "stdout",
     "output_type": "stream",
     "text": [
      "2023-01-01 23:59:29.195000 2023-01-01 00:06:14.840000\n"
     ]
    }
   ],
   "source": [
    "time_ls = []\n",
    "for i in range(json_data['metadata']['count']):\n",
    "    time_eq = json_data['features'][i]['properties']['time']\n",
    "    time_ls.append(datetime.datetime.fromtimestamp(time_eq/1000.0))\n",
    "\n",
    "print(max(time_ls), min(time_ls))"
   ]
  },
  {
   "cell_type": "markdown",
   "id": "4526ca51-b48d-4758-ab70-abccc7ad167b",
   "metadata": {},
   "source": [
    "The data retrieved is exclusive to `starttime` (2023-01-01) range (not include `endtime` (2023-01-02))"
   ]
  },
  {
   "cell_type": "markdown",
   "metadata": {},
   "source": [
    "## Data Understanding"
   ]
  },
  {
   "cell_type": "markdown",
   "metadata": {},
   "source": [
    "| Key | Description/Value |\n",
    "| --- | --- |\n",
    "| `type` | `FeatureCollection` |\n",
    "| `metadata` | Information related to data fetched |\n",
    "| `feature` | Earthquake event |\n",
    "| `bbox` | Contains `min_lat`, `max_lat`, `min_long`, `max_long`, `min_depth`, `max_depth` from all data fetched |"
   ]
  },
  {
   "cell_type": "code",
   "execution_count": 6,
   "id": "3366d237-26f5-4885-8a05-291e9a41fcc5",
   "metadata": {},
   "outputs": [
    {
     "data": {
      "text/plain": [
       "dict_keys(['type', 'metadata', 'features', 'bbox'])"
      ]
     },
     "execution_count": 6,
     "metadata": {},
     "output_type": "execute_result"
    }
   ],
   "source": [
    "json_data.keys()"
   ]
  },
  {
   "cell_type": "code",
   "execution_count": 7,
   "id": "229b74aa-7aa5-44b4-8ff3-74e9fe520c0e",
   "metadata": {},
   "outputs": [
    {
     "data": {
      "text/plain": [
       "'FeatureCollection'"
      ]
     },
     "execution_count": 7,
     "metadata": {},
     "output_type": "execute_result"
    }
   ],
   "source": [
    "json_data['type']"
   ]
  },
  {
   "cell_type": "code",
   "execution_count": 8,
   "id": "d8f8ccf9-2f21-45b7-9543-6dfe302279d2",
   "metadata": {},
   "outputs": [
    {
     "data": {
      "text/plain": [
       "dict_keys(['generated', 'url', 'title', 'status', 'api', 'count'])"
      ]
     },
     "execution_count": 8,
     "metadata": {},
     "output_type": "execute_result"
    }
   ],
   "source": [
    "json_data['metadata'].keys()"
   ]
  },
  {
   "cell_type": "code",
   "execution_count": 9,
   "id": "9ea8c792-c5b4-4d6c-ae45-daaf644c6d87",
   "metadata": {},
   "outputs": [
    {
     "data": {
      "text/plain": [
       "{'generated': 1700711620000,\n",
       " 'url': 'https://earthquake.usgs.gov/fdsnws/event/1/query?format=geojson&starttime=2023-01-01&endtime=2023-01-02',\n",
       " 'title': 'USGS Earthquakes',\n",
       " 'status': 200,\n",
       " 'api': '1.14.0',\n",
       " 'count': 349}"
      ]
     },
     "execution_count": 9,
     "metadata": {},
     "output_type": "execute_result"
    }
   ],
   "source": [
    "# metadata of the files retirieved\n",
    "json_data['metadata']"
   ]
  },
  {
   "cell_type": "code",
   "execution_count": 10,
   "id": "793440c2-6856-42f6-bab1-1a3b7d8aee84",
   "metadata": {},
   "outputs": [
    {
     "data": {
      "text/plain": [
       "[-178.81666666667, -60.8195, -3.05, 179.599, 67.2198, 595.724]"
      ]
     },
     "execution_count": 10,
     "metadata": {},
     "output_type": "execute_result"
    }
   ],
   "source": [
    "# min long, min lat, min depth, max long, max lat, max depth\n",
    "json_data['bbox']"
   ]
  },
  {
   "cell_type": "code",
   "execution_count": 11,
   "id": "c934aea1-1933-4391-a4be-d752fcbc8f39",
   "metadata": {},
   "outputs": [
    {
     "data": {
      "text/plain": [
       "dict_keys(['type', 'properties', 'geometry', 'id'])"
      ]
     },
     "execution_count": 11,
     "metadata": {},
     "output_type": "execute_result"
    }
   ],
   "source": [
    "# first record\n",
    "json_data['features'][0].keys()"
   ]
  },
  {
   "cell_type": "code",
   "execution_count": 12,
   "id": "c7b10bb2-f2fc-46e8-b872-3b0d97cba025",
   "metadata": {},
   "outputs": [
    {
     "data": {
      "text/plain": [
       "'Feature'"
      ]
     },
     "execution_count": 12,
     "metadata": {},
     "output_type": "execute_result"
    }
   ],
   "source": [
    "json_data['features'][0]['type']"
   ]
  },
  {
   "cell_type": "code",
   "execution_count": 13,
   "id": "6fed49af-fece-4a86-aa0d-3e95d1a785a2",
   "metadata": {},
   "outputs": [
    {
     "data": {
      "text/plain": [
       "dict_keys(['mag', 'place', 'time', 'updated', 'tz', 'url', 'detail', 'felt', 'cdi', 'mmi', 'alert', 'status', 'tsunami', 'sig', 'net', 'code', 'ids', 'sources', 'types', 'nst', 'dmin', 'rms', 'gap', 'magType', 'type', 'title'])"
      ]
     },
     "execution_count": 13,
     "metadata": {},
     "output_type": "execute_result"
    }
   ],
   "source": [
    "# 26 features\n",
    "json_data['features'][0]['properties'].keys()"
   ]
  },
  {
   "cell_type": "code",
   "execution_count": 15,
   "id": "b9e535b5-fbe7-4e5c-9a4d-ec21bad8a3f7",
   "metadata": {},
   "outputs": [
    {
     "data": {
      "text/plain": [
       "{'type': 'Feature',\n",
       " 'properties': {'mag': 4.2,\n",
       "  'place': '5 km NNE of Jayapura, Indonesia',\n",
       "  'time': 1672617569195,\n",
       "  'updated': 1678575106040,\n",
       "  'tz': None,\n",
       "  'url': 'https://earthquake.usgs.gov/earthquakes/eventpage/us7000j3yb',\n",
       "  'detail': 'https://earthquake.usgs.gov/fdsnws/event/1/query?eventid=us7000j3yb&format=geojson',\n",
       "  'felt': None,\n",
       "  'cdi': None,\n",
       "  'mmi': None,\n",
       "  'alert': None,\n",
       "  'status': 'reviewed',\n",
       "  'tsunami': 0,\n",
       "  'sig': 271,\n",
       "  'net': 'us',\n",
       "  'code': '7000j3yb',\n",
       "  'ids': ',us7000j3yb,',\n",
       "  'sources': ',us,',\n",
       "  'types': ',origin,phase-data,',\n",
       "  'nst': 19,\n",
       "  'dmin': 16.495,\n",
       "  'rms': 0.45,\n",
       "  'gap': 99,\n",
       "  'magType': 'mb',\n",
       "  'type': 'earthquake',\n",
       "  'title': 'M 4.2 - 5 km NNE of Jayapura, Indonesia'},\n",
       " 'geometry': {'type': 'Point', 'coordinates': [140.7385, -2.493, 10]},\n",
       " 'id': 'us7000j3yb'}"
      ]
     },
     "execution_count": 15,
     "metadata": {},
     "output_type": "execute_result"
    }
   ],
   "source": [
    "json_data['features'][0]"
   ]
  },
  {
   "cell_type": "code",
   "execution_count": 14,
   "metadata": {},
   "outputs": [
    {
     "data": {
      "text/plain": [
       "{'type': 'Feature',\n",
       " 'properties': {'mag': 3.62,\n",
       "  'place': '103 km N of Suárez, Puerto Rico',\n",
       "  'time': 1672617413930,\n",
       "  'updated': 1672619526212,\n",
       "  'tz': None,\n",
       "  'url': 'https://earthquake.usgs.gov/earthquakes/eventpage/pr2023001004',\n",
       "  'detail': 'https://earthquake.usgs.gov/fdsnws/event/1/query?eventid=pr2023001004&format=geojson',\n",
       "  'felt': None,\n",
       "  'cdi': None,\n",
       "  'mmi': None,\n",
       "  'alert': None,\n",
       "  'status': 'reviewed',\n",
       "  'tsunami': 0,\n",
       "  'sig': 202,\n",
       "  'net': 'pr',\n",
       "  'code': '2023001004',\n",
       "  'ids': ',pr2023001004,',\n",
       "  'sources': ',pr,',\n",
       "  'types': ',origin,phase-data,',\n",
       "  'nst': 14,\n",
       "  'dmin': 1.1104,\n",
       "  'rms': 0.44,\n",
       "  'gap': 270,\n",
       "  'magType': 'md',\n",
       "  'type': 'earthquake',\n",
       "  'title': 'M 3.6 - 103 km N of Suárez, Puerto Rico'},\n",
       " 'geometry': {'type': 'Point', 'coordinates': [-65.7256, 19.3601, 34]},\n",
       " 'id': 'pr2023001004'}"
      ]
     },
     "execution_count": 14,
     "metadata": {},
     "output_type": "execute_result"
    }
   ],
   "source": [
    "json_data['features'][1]"
   ]
  },
  {
   "cell_type": "code",
   "execution_count": 16,
   "id": "b41a35c5-d71f-4715-b46b-16ed2130e5a3",
   "metadata": {},
   "outputs": [
    {
     "data": {
      "text/plain": [
       "{'type': 'Point', 'coordinates': [140.7385, -2.493, 10]}"
      ]
     },
     "execution_count": 16,
     "metadata": {},
     "output_type": "execute_result"
    }
   ],
   "source": [
    "# coordinates: latitude, longitude, depth\n",
    "json_data['features'][0]['geometry']"
   ]
  },
  {
   "cell_type": "code",
   "execution_count": 17,
   "id": "8b3836e2-2c1e-4b24-b254-bcd47caba5a5",
   "metadata": {},
   "outputs": [
    {
     "data": {
      "text/plain": [
       "'us7000j3yb'"
      ]
     },
     "execution_count": 17,
     "metadata": {},
     "output_type": "execute_result"
    }
   ],
   "source": [
    "json_data['features'][0]['id']"
   ]
  },
  {
   "cell_type": "markdown",
   "id": "36a6b772-5262-4327-9f4e-1723a436ead3",
   "metadata": {
    "jp-MarkdownHeadingCollapsed": true
   },
   "source": [
    "## Save json data to local"
   ]
  },
  {
   "cell_type": "code",
   "execution_count": 6,
   "id": "31190eac-237a-4e84-ac3b-b5730b30934b",
   "metadata": {},
   "outputs": [],
   "source": [
    "with open(f\"data/raw/json/data_{starttime}.json\", \"w\") as f:\n",
    "    json.dump(json_data, f)"
   ]
  },
  {
   "cell_type": "markdown",
   "id": "b3280b8e-41fb-47ba-be34-cf8bb1ea9fd4",
   "metadata": {},
   "source": [
    "## Convert from json to parquet"
   ]
  },
  {
   "cell_type": "markdown",
   "id": "38d43753-1d3f-4326-b567-bfd5ac2da134",
   "metadata": {},
   "source": [
    "### Flatten and preprocessing"
   ]
  },
  {
   "cell_type": "markdown",
   "id": "6fda8c56-c39b-4c6b-9bff-fd1cd94c4404",
   "metadata": {},
   "source": [
    "Challenges:\n",
    "- Flatten nested json data\n",
    "- Convert data type"
   ]
  },
  {
   "cell_type": "code",
   "execution_count": 35,
   "id": "ddc8c7fd-8aaf-4ed9-99dd-83ab93618d6e",
   "metadata": {},
   "outputs": [
    {
     "data": {
      "text/html": [
       "<div>\n",
       "<style scoped>\n",
       "    .dataframe tbody tr th:only-of-type {\n",
       "        vertical-align: middle;\n",
       "    }\n",
       "\n",
       "    .dataframe tbody tr th {\n",
       "        vertical-align: top;\n",
       "    }\n",
       "\n",
       "    .dataframe thead th {\n",
       "        text-align: right;\n",
       "    }\n",
       "</style>\n",
       "<table border=\"1\" class=\"dataframe\">\n",
       "  <thead>\n",
       "    <tr style=\"text-align: right;\">\n",
       "      <th></th>\n",
       "      <th>type</th>\n",
       "      <th>id</th>\n",
       "      <th>properties_mag</th>\n",
       "      <th>properties_place</th>\n",
       "      <th>properties_time</th>\n",
       "      <th>properties_updated</th>\n",
       "      <th>properties_tz</th>\n",
       "      <th>properties_url</th>\n",
       "      <th>properties_detail</th>\n",
       "      <th>properties_felt</th>\n",
       "      <th>...</th>\n",
       "      <th>properties_nst</th>\n",
       "      <th>properties_dmin</th>\n",
       "      <th>properties_rms</th>\n",
       "      <th>properties_gap</th>\n",
       "      <th>properties_magType</th>\n",
       "      <th>properties_type</th>\n",
       "      <th>properties_title</th>\n",
       "      <th>geometry_type</th>\n",
       "      <th>geometry_coordinates</th>\n",
       "      <th>metadata</th>\n",
       "    </tr>\n",
       "  </thead>\n",
       "  <tbody>\n",
       "    <tr>\n",
       "      <th>0</th>\n",
       "      <td>Feature</td>\n",
       "      <td>us7000j3yb</td>\n",
       "      <td>4.20</td>\n",
       "      <td>5 km NNE of Jayapura, Indonesia</td>\n",
       "      <td>1672617569195</td>\n",
       "      <td>1678575106040</td>\n",
       "      <td>None</td>\n",
       "      <td>https://earthquake.usgs.gov/earthquakes/eventp...</td>\n",
       "      <td>https://earthquake.usgs.gov/fdsnws/event/1/que...</td>\n",
       "      <td>NaN</td>\n",
       "      <td>...</td>\n",
       "      <td>19.0</td>\n",
       "      <td>16.495000</td>\n",
       "      <td>0.45</td>\n",
       "      <td>99.0</td>\n",
       "      <td>mb</td>\n",
       "      <td>earthquake</td>\n",
       "      <td>M 4.2 - 5 km NNE of Jayapura, Indonesia</td>\n",
       "      <td>Point</td>\n",
       "      <td>[140.7385, -2.493, 10]</td>\n",
       "      <td>{'generated': 1700308166000, 'url': 'https://e...</td>\n",
       "    </tr>\n",
       "    <tr>\n",
       "      <th>1</th>\n",
       "      <td>Feature</td>\n",
       "      <td>pr2023001004</td>\n",
       "      <td>3.62</td>\n",
       "      <td>103 km N of Suárez, Puerto Rico</td>\n",
       "      <td>1672617413930</td>\n",
       "      <td>1672619526212</td>\n",
       "      <td>None</td>\n",
       "      <td>https://earthquake.usgs.gov/earthquakes/eventp...</td>\n",
       "      <td>https://earthquake.usgs.gov/fdsnws/event/1/que...</td>\n",
       "      <td>NaN</td>\n",
       "      <td>...</td>\n",
       "      <td>14.0</td>\n",
       "      <td>1.110400</td>\n",
       "      <td>0.44</td>\n",
       "      <td>270.0</td>\n",
       "      <td>md</td>\n",
       "      <td>earthquake</td>\n",
       "      <td>M 3.6 - 103 km N of Suárez, Puerto Rico</td>\n",
       "      <td>Point</td>\n",
       "      <td>[-65.7256, 19.3601, 34]</td>\n",
       "      <td>{'generated': 1700308166000, 'url': 'https://e...</td>\n",
       "    </tr>\n",
       "    <tr>\n",
       "      <th>2</th>\n",
       "      <td>Feature</td>\n",
       "      <td>av91082783</td>\n",
       "      <td>-0.76</td>\n",
       "      <td>85 km NNW of Karluk, Alaska</td>\n",
       "      <td>1672617277550</td>\n",
       "      <td>1672860382700</td>\n",
       "      <td>None</td>\n",
       "      <td>https://earthquake.usgs.gov/earthquakes/eventp...</td>\n",
       "      <td>https://earthquake.usgs.gov/fdsnws/event/1/que...</td>\n",
       "      <td>NaN</td>\n",
       "      <td>...</td>\n",
       "      <td>6.0</td>\n",
       "      <td>NaN</td>\n",
       "      <td>0.06</td>\n",
       "      <td>217.0</td>\n",
       "      <td>ml</td>\n",
       "      <td>earthquake</td>\n",
       "      <td>M -0.8 - 85 km NNW of Karluk, Alaska</td>\n",
       "      <td>Point</td>\n",
       "      <td>[-155.180333333333, 58.2275, 3.08]</td>\n",
       "      <td>{'generated': 1700308166000, 'url': 'https://e...</td>\n",
       "    </tr>\n",
       "    <tr>\n",
       "      <th>3</th>\n",
       "      <td>Feature</td>\n",
       "      <td>nc73827681</td>\n",
       "      <td>0.57</td>\n",
       "      <td>10km NW of The Geysers, CA</td>\n",
       "      <td>1672617223560</td>\n",
       "      <td>1673410751822</td>\n",
       "      <td>None</td>\n",
       "      <td>https://earthquake.usgs.gov/earthquakes/eventp...</td>\n",
       "      <td>https://earthquake.usgs.gov/fdsnws/event/1/que...</td>\n",
       "      <td>NaN</td>\n",
       "      <td>...</td>\n",
       "      <td>21.0</td>\n",
       "      <td>0.007542</td>\n",
       "      <td>0.02</td>\n",
       "      <td>96.0</td>\n",
       "      <td>md</td>\n",
       "      <td>earthquake</td>\n",
       "      <td>M 0.6 - 10km NW of The Geysers, CA</td>\n",
       "      <td>Point</td>\n",
       "      <td>[-122.8415, 38.8445, 2.06]</td>\n",
       "      <td>{'generated': 1700308166000, 'url': 'https://e...</td>\n",
       "    </tr>\n",
       "    <tr>\n",
       "      <th>4</th>\n",
       "      <td>Feature</td>\n",
       "      <td>pr71390293</td>\n",
       "      <td>2.28</td>\n",
       "      <td>None</td>\n",
       "      <td>1672617148580</td>\n",
       "      <td>1672618140720</td>\n",
       "      <td>None</td>\n",
       "      <td>https://earthquake.usgs.gov/earthquakes/eventp...</td>\n",
       "      <td>https://earthquake.usgs.gov/fdsnws/event/1/que...</td>\n",
       "      <td>NaN</td>\n",
       "      <td>...</td>\n",
       "      <td>5.0</td>\n",
       "      <td>0.092310</td>\n",
       "      <td>0.08</td>\n",
       "      <td>242.0</td>\n",
       "      <td>md</td>\n",
       "      <td>earthquake</td>\n",
       "      <td>M 2.3 -</td>\n",
       "      <td>Point</td>\n",
       "      <td>[-66.8565, 17.8848333333333, 11.19]</td>\n",
       "      <td>{'generated': 1700308166000, 'url': 'https://e...</td>\n",
       "    </tr>\n",
       "  </tbody>\n",
       "</table>\n",
       "<p>5 rows × 31 columns</p>\n",
       "</div>"
      ],
      "text/plain": [
       "      type            id  properties_mag                 properties_place  \\\n",
       "0  Feature    us7000j3yb            4.20  5 km NNE of Jayapura, Indonesia   \n",
       "1  Feature  pr2023001004            3.62  103 km N of Suárez, Puerto Rico   \n",
       "2  Feature    av91082783           -0.76      85 km NNW of Karluk, Alaska   \n",
       "3  Feature    nc73827681            0.57       10km NW of The Geysers, CA   \n",
       "4  Feature    pr71390293            2.28                             None   \n",
       "\n",
       "   properties_time  properties_updated properties_tz  \\\n",
       "0    1672617569195       1678575106040          None   \n",
       "1    1672617413930       1672619526212          None   \n",
       "2    1672617277550       1672860382700          None   \n",
       "3    1672617223560       1673410751822          None   \n",
       "4    1672617148580       1672618140720          None   \n",
       "\n",
       "                                      properties_url  \\\n",
       "0  https://earthquake.usgs.gov/earthquakes/eventp...   \n",
       "1  https://earthquake.usgs.gov/earthquakes/eventp...   \n",
       "2  https://earthquake.usgs.gov/earthquakes/eventp...   \n",
       "3  https://earthquake.usgs.gov/earthquakes/eventp...   \n",
       "4  https://earthquake.usgs.gov/earthquakes/eventp...   \n",
       "\n",
       "                                   properties_detail  properties_felt  ...  \\\n",
       "0  https://earthquake.usgs.gov/fdsnws/event/1/que...              NaN  ...   \n",
       "1  https://earthquake.usgs.gov/fdsnws/event/1/que...              NaN  ...   \n",
       "2  https://earthquake.usgs.gov/fdsnws/event/1/que...              NaN  ...   \n",
       "3  https://earthquake.usgs.gov/fdsnws/event/1/que...              NaN  ...   \n",
       "4  https://earthquake.usgs.gov/fdsnws/event/1/que...              NaN  ...   \n",
       "\n",
       "   properties_nst  properties_dmin properties_rms properties_gap  \\\n",
       "0            19.0        16.495000           0.45           99.0   \n",
       "1            14.0         1.110400           0.44          270.0   \n",
       "2             6.0              NaN           0.06          217.0   \n",
       "3            21.0         0.007542           0.02           96.0   \n",
       "4             5.0         0.092310           0.08          242.0   \n",
       "\n",
       "   properties_magType  properties_type  \\\n",
       "0                  mb       earthquake   \n",
       "1                  md       earthquake   \n",
       "2                  ml       earthquake   \n",
       "3                  md       earthquake   \n",
       "4                  md       earthquake   \n",
       "\n",
       "                          properties_title geometry_type  \\\n",
       "0  M 4.2 - 5 km NNE of Jayapura, Indonesia         Point   \n",
       "1  M 3.6 - 103 km N of Suárez, Puerto Rico         Point   \n",
       "2     M -0.8 - 85 km NNW of Karluk, Alaska         Point   \n",
       "3       M 0.6 - 10km NW of The Geysers, CA         Point   \n",
       "4                                 M 2.3 -          Point   \n",
       "\n",
       "                  geometry_coordinates  \\\n",
       "0               [140.7385, -2.493, 10]   \n",
       "1              [-65.7256, 19.3601, 34]   \n",
       "2   [-155.180333333333, 58.2275, 3.08]   \n",
       "3           [-122.8415, 38.8445, 2.06]   \n",
       "4  [-66.8565, 17.8848333333333, 11.19]   \n",
       "\n",
       "                                            metadata  \n",
       "0  {'generated': 1700308166000, 'url': 'https://e...  \n",
       "1  {'generated': 1700308166000, 'url': 'https://e...  \n",
       "2  {'generated': 1700308166000, 'url': 'https://e...  \n",
       "3  {'generated': 1700308166000, 'url': 'https://e...  \n",
       "4  {'generated': 1700308166000, 'url': 'https://e...  \n",
       "\n",
       "[5 rows x 31 columns]"
      ]
     },
     "execution_count": 35,
     "metadata": {},
     "output_type": "execute_result"
    }
   ],
   "source": [
    "df_json = pd.json_normalize(json_data, record_path=[\"features\"], meta=\"metadata\")\n",
    "\n",
    "df_json.head()"
   ]
  },
  {
   "cell_type": "code",
   "execution_count": 36,
   "id": "bff1457a-e75c-45db-9619-7720d6394043",
   "metadata": {},
   "outputs": [
    {
     "name": "stdout",
     "output_type": "stream",
     "text": [
      "<class 'pandas.core.frame.DataFrame'>\n",
      "RangeIndex: 349 entries, 0 to 348\n",
      "Data columns (total 31 columns):\n",
      " #   Column                Non-Null Count  Dtype  \n",
      "---  ------                --------------  -----  \n",
      " 0   type                  349 non-null    object \n",
      " 1   id                    349 non-null    object \n",
      " 2   properties_mag        348 non-null    float64\n",
      " 3   properties_place      327 non-null    object \n",
      " 4   properties_time       349 non-null    int64  \n",
      " 5   properties_updated    349 non-null    int64  \n",
      " 6   properties_tz         0 non-null      object \n",
      " 7   properties_url        349 non-null    object \n",
      " 8   properties_detail     349 non-null    object \n",
      " 9   properties_felt       31 non-null     float64\n",
      " 10  properties_cdi        31 non-null     float64\n",
      " 11  properties_mmi        7 non-null      float64\n",
      " 12  properties_alert      5 non-null      object \n",
      " 13  properties_status     349 non-null    object \n",
      " 14  properties_tsunami    349 non-null    int64  \n",
      " 15  properties_sig        349 non-null    int64  \n",
      " 16  properties_net        349 non-null    object \n",
      " 17  properties_code       349 non-null    object \n",
      " 18  properties_ids        349 non-null    object \n",
      " 19  properties_sources    349 non-null    object \n",
      " 20  properties_types      349 non-null    object \n",
      " 21  properties_nst        272 non-null    float64\n",
      " 22  properties_dmin       205 non-null    float64\n",
      " 23  properties_rms        349 non-null    float64\n",
      " 24  properties_gap        272 non-null    float64\n",
      " 25  properties_magType    348 non-null    object \n",
      " 26  properties_type       349 non-null    object \n",
      " 27  properties_title      349 non-null    object \n",
      " 28  geometry_type         349 non-null    object \n",
      " 29  geometry_coordinates  349 non-null    object \n",
      " 30  metadata              349 non-null    object \n",
      "dtypes: float64(8), int64(4), object(19)\n",
      "memory usage: 84.6+ KB\n"
     ]
    }
   ],
   "source": [
    "df_json.info()"
   ]
  },
  {
   "cell_type": "markdown",
   "id": "59626cb2-c815-4354-aa8d-aec9f7aa4256",
   "metadata": {},
   "source": [
    "Flatten `geometry_coordinates` feature"
   ]
  },
  {
   "cell_type": "code",
   "execution_count": 37,
   "id": "43d5507b-7d66-4d48-ab21-f5a97d897652",
   "metadata": {},
   "outputs": [],
   "source": [
    "# flatten geometry_coordinates\n",
    "df_json[[\"geometry_coordinates_latitude\", \"geometry_coordinates_longitude\", \"geometry_coordinates_depth\"]] = df_json[\"geometry_coordinates\"].tolist()"
   ]
  },
  {
   "cell_type": "code",
   "execution_count": 39,
   "id": "0bfb6c61-dae2-413b-9e72-eb19ce0f9323",
   "metadata": {},
   "outputs": [],
   "source": [
    "df_json.drop([\"geometry_coordinates\"], axis=1, inplace=True)"
   ]
  },
  {
   "cell_type": "markdown",
   "id": "a4f37869-5d92-4874-9aa4-3e6b4e4c3b7f",
   "metadata": {},
   "source": [
    "Flatten `geometry_coordinates` feature"
   ]
  },
  {
   "cell_type": "code",
   "execution_count": 40,
   "id": "0adb6ec3-9ca7-422c-adec-3a042733b72e",
   "metadata": {},
   "outputs": [
    {
     "data": {
      "text/plain": [
       "{'generated': 1700308166000,\n",
       " 'url': 'https://earthquake.usgs.gov/fdsnws/event/1/query?format=geojson&starttime=2023-01-01&endtime=2023-01-02',\n",
       " 'title': 'USGS Earthquakes',\n",
       " 'status': 200,\n",
       " 'api': '1.14.0',\n",
       " 'count': 349}"
      ]
     },
     "execution_count": 40,
     "metadata": {},
     "output_type": "execute_result"
    }
   ],
   "source": [
    "df_json['metadata'][0]"
   ]
  },
  {
   "cell_type": "code",
   "execution_count": 41,
   "id": "7880bb98-322b-4252-9963-a718ab9f4411",
   "metadata": {},
   "outputs": [],
   "source": [
    "df_json = pd.concat(\n",
    "    [df_json, pd.json_normalize(df_json[\"metadata\"]).add_prefix(\"metadata_\")],\n",
    "    axis=1\n",
    ")"
   ]
  },
  {
   "cell_type": "code",
   "execution_count": 43,
   "id": "ece7f558-d8a5-4393-a8a8-e3909f92ed0b",
   "metadata": {},
   "outputs": [],
   "source": [
    "df_json.drop([\"metadata\"], axis=1, inplace=True)"
   ]
  },
  {
   "cell_type": "markdown",
   "id": "5633c5d1-0a5b-4b1f-805b-b3d6a1c2c012",
   "metadata": {},
   "source": [
    "Fill null values"
   ]
  },
  {
   "cell_type": "code",
   "execution_count": 58,
   "id": "126c338a-16d9-46c0-a277-18a84e86687b",
   "metadata": {},
   "outputs": [
    {
     "data": {
      "text/plain": [
       "0     NaN\n",
       "1     NaN\n",
       "2     NaN\n",
       "3     NaN\n",
       "4     NaN\n",
       "       ..\n",
       "344   NaN\n",
       "345   NaN\n",
       "346   NaN\n",
       "347   NaN\n",
       "348   NaN\n",
       "Name: properties_cdi, Length: 349, dtype: float64"
      ]
     },
     "execution_count": 58,
     "metadata": {},
     "output_type": "execute_result"
    }
   ],
   "source": [
    "df_json[\"properties_cdi\"]"
   ]
  },
  {
   "cell_type": "code",
   "execution_count": 51,
   "id": "c9c67cbb-d9c0-4491-aa63-e2cb962e0599",
   "metadata": {},
   "outputs": [
    {
     "name": "stdout",
     "output_type": "stream",
     "text": [
      "<class 'pandas.core.frame.DataFrame'>\n",
      "RangeIndex: 349 entries, 0 to 348\n",
      "Data columns (total 38 columns):\n",
      " #   Column                          Non-Null Count  Dtype  \n",
      "---  ------                          --------------  -----  \n",
      " 0   type                            349 non-null    object \n",
      " 1   id                              349 non-null    object \n",
      " 2   properties_mag                  348 non-null    float64\n",
      " 3   properties_place                327 non-null    object \n",
      " 4   properties_time                 349 non-null    int64  \n",
      " 5   properties_updated              349 non-null    int64  \n",
      " 6   properties_tz                   0 non-null      object \n",
      " 7   properties_url                  349 non-null    object \n",
      " 8   properties_detail               349 non-null    object \n",
      " 9   properties_felt                 31 non-null     float64\n",
      " 10  properties_cdi                  31 non-null     float64\n",
      " 11  properties_mmi                  7 non-null      float64\n",
      " 12  properties_alert                5 non-null      object \n",
      " 13  properties_status               349 non-null    object \n",
      " 14  properties_tsunami              349 non-null    int64  \n",
      " 15  properties_sig                  349 non-null    int64  \n",
      " 16  properties_net                  349 non-null    object \n",
      " 17  properties_code                 349 non-null    object \n",
      " 18  properties_ids                  349 non-null    object \n",
      " 19  properties_sources              349 non-null    object \n",
      " 20  properties_types                349 non-null    object \n",
      " 21  properties_nst                  272 non-null    float64\n",
      " 22  properties_dmin                 205 non-null    float64\n",
      " 23  properties_rms                  349 non-null    float64\n",
      " 24  properties_gap                  272 non-null    float64\n",
      " 25  properties_magType              348 non-null    object \n",
      " 26  properties_type                 349 non-null    object \n",
      " 27  properties_title                349 non-null    object \n",
      " 28  geometry_type                   349 non-null    object \n",
      " 29  geometry_coordinates_latitude   349 non-null    float64\n",
      " 30  geometry_coordinates_longitude  349 non-null    float64\n",
      " 31  geometry_coordinates_depth      349 non-null    float64\n",
      " 32  metadata_generated              349 non-null    int64  \n",
      " 33  metadata_url                    349 non-null    object \n",
      " 34  metadata_title                  349 non-null    object \n",
      " 35  metadata_status                 349 non-null    int64  \n",
      " 36  metadata_api                    349 non-null    object \n",
      " 37  metadata_count                  349 non-null    int64  \n",
      "dtypes: float64(11), int64(7), object(20)\n",
      "memory usage: 103.7+ KB\n"
     ]
    }
   ],
   "source": [
    "df_json.info"
   ]
  },
  {
   "cell_type": "code",
   "execution_count": 71,
   "id": "53090e76-85d2-413d-be2d-6d0c882d30e2",
   "metadata": {},
   "outputs": [],
   "source": [
    "df_json[\"metadata_generated_datetime\"] = pd.to_datetime(df_json[\"metadata_generated\"], unit=\"ms\")"
   ]
  },
  {
   "cell_type": "code",
   "execution_count": 72,
   "id": "b6a10753-b1be-4476-ab9d-d0aa8eeb372a",
   "metadata": {},
   "outputs": [],
   "source": [
    "df_json[\"properties_time_datetime\"] = pd.to_datetime(df_json[\"properties_time\"], unit=\"ms\")"
   ]
  },
  {
   "cell_type": "code",
   "execution_count": 73,
   "id": "cf64b53b-e9e5-4335-b31c-d84ee6557d65",
   "metadata": {},
   "outputs": [],
   "source": [
    "df_json[\"properties_updated_datetime\"] = pd.to_datetime(df_json[\"properties_updated\"], unit=\"ms\")"
   ]
  },
  {
   "cell_type": "code",
   "execution_count": 81,
   "id": "1bc56b5a-96af-4ef5-a002-52328c2eac10",
   "metadata": {},
   "outputs": [],
   "source": [
    "df_json[['properties_felt', 'properties_nst']] = df_json[['properties_felt', 'properties_nst']].astype('Int64')"
   ]
  },
  {
   "cell_type": "code",
   "execution_count": 82,
   "id": "bf4f0181-50e3-4284-9663-d27954370825",
   "metadata": {},
   "outputs": [
    {
     "name": "stdout",
     "output_type": "stream",
     "text": [
      "<class 'pandas.core.frame.DataFrame'>\n",
      "RangeIndex: 349 entries, 0 to 348\n",
      "Data columns (total 41 columns):\n",
      " #   Column                          Non-Null Count  Dtype         \n",
      "---  ------                          --------------  -----         \n",
      " 0   type                            349 non-null    object        \n",
      " 1   id                              349 non-null    object        \n",
      " 2   properties_mag                  348 non-null    float64       \n",
      " 3   properties_place                327 non-null    object        \n",
      " 4   properties_time                 349 non-null    int64         \n",
      " 5   properties_updated              349 non-null    int64         \n",
      " 6   properties_tz                   0 non-null      object        \n",
      " 7   properties_url                  349 non-null    object        \n",
      " 8   properties_detail               349 non-null    object        \n",
      " 9   properties_felt                 31 non-null     Int64         \n",
      " 10  properties_cdi                  31 non-null     float64       \n",
      " 11  properties_mmi                  7 non-null      float64       \n",
      " 12  properties_alert                5 non-null      object        \n",
      " 13  properties_status               349 non-null    object        \n",
      " 14  properties_tsunami              349 non-null    int64         \n",
      " 15  properties_sig                  349 non-null    int64         \n",
      " 16  properties_net                  349 non-null    object        \n",
      " 17  properties_code                 349 non-null    object        \n",
      " 18  properties_ids                  349 non-null    object        \n",
      " 19  properties_sources              349 non-null    object        \n",
      " 20  properties_types                349 non-null    object        \n",
      " 21  properties_nst                  272 non-null    Int64         \n",
      " 22  properties_dmin                 205 non-null    float64       \n",
      " 23  properties_rms                  349 non-null    float64       \n",
      " 24  properties_gap                  272 non-null    float64       \n",
      " 25  properties_magType              348 non-null    object        \n",
      " 26  properties_type                 349 non-null    object        \n",
      " 27  properties_title                349 non-null    object        \n",
      " 28  geometry_type                   349 non-null    object        \n",
      " 29  geometry_coordinates_latitude   349 non-null    float64       \n",
      " 30  geometry_coordinates_longitude  349 non-null    float64       \n",
      " 31  geometry_coordinates_depth      349 non-null    float64       \n",
      " 32  metadata_generated              349 non-null    int64         \n",
      " 33  metadata_url                    349 non-null    object        \n",
      " 34  metadata_title                  349 non-null    object        \n",
      " 35  metadata_status                 349 non-null    int64         \n",
      " 36  metadata_api                    349 non-null    object        \n",
      " 37  metadata_count                  349 non-null    int64         \n",
      " 38  metadata_generated_datetime     349 non-null    datetime64[ns]\n",
      " 39  properties_time_datetime        349 non-null    datetime64[ns]\n",
      " 40  properties_updated_datetime     349 non-null    datetime64[ns]\n",
      "dtypes: Int64(2), datetime64[ns](3), float64(9), int64(7), object(20)\n",
      "memory usage: 112.6+ KB\n"
     ]
    }
   ],
   "source": [
    "df_json.info()"
   ]
  },
  {
   "cell_type": "code",
   "execution_count": 83,
   "id": "08450db7-d5d7-42bd-9b55-8259aa2e7549",
   "metadata": {},
   "outputs": [],
   "source": [
    "df_json.to_parquet(f\"data/raw/parquet/data_{starttime}.parquet\", compression=\"gzip\")"
   ]
  },
  {
   "cell_type": "markdown",
   "id": "a8749ac7-5039-4369-9228-291cdd733c4b",
   "metadata": {
    "jp-MarkdownHeadingCollapsed": true
   },
   "source": [
    "## Save parquet data to locale"
   ]
  },
  {
   "cell_type": "code",
   "execution_count": 3,
   "id": "c5310c55-6af5-410d-93be-58d044bebabc",
   "metadata": {},
   "outputs": [
    {
     "data": {
      "text/html": [
       "<div>\n",
       "<style scoped>\n",
       "    .dataframe tbody tr th:only-of-type {\n",
       "        vertical-align: middle;\n",
       "    }\n",
       "\n",
       "    .dataframe tbody tr th {\n",
       "        vertical-align: top;\n",
       "    }\n",
       "\n",
       "    .dataframe thead th {\n",
       "        text-align: right;\n",
       "    }\n",
       "</style>\n",
       "<table border=\"1\" class=\"dataframe\">\n",
       "  <thead>\n",
       "    <tr style=\"text-align: right;\">\n",
       "      <th></th>\n",
       "      <th>type</th>\n",
       "      <th>id</th>\n",
       "      <th>properties_mag</th>\n",
       "      <th>properties_place</th>\n",
       "      <th>properties_time</th>\n",
       "      <th>properties_updated</th>\n",
       "      <th>properties_tz</th>\n",
       "      <th>properties_url</th>\n",
       "      <th>properties_detail</th>\n",
       "      <th>properties_felt</th>\n",
       "      <th>...</th>\n",
       "      <th>geometry_coordinates_depth</th>\n",
       "      <th>metadata_generated</th>\n",
       "      <th>metadata_url</th>\n",
       "      <th>metadata_title</th>\n",
       "      <th>metadata_status</th>\n",
       "      <th>metadata_api</th>\n",
       "      <th>metadata_count</th>\n",
       "      <th>metadata_generated_datetime</th>\n",
       "      <th>properties_time_datetime</th>\n",
       "      <th>properties_updated_datetime</th>\n",
       "    </tr>\n",
       "  </thead>\n",
       "  <tbody>\n",
       "    <tr>\n",
       "      <th>0</th>\n",
       "      <td>Feature</td>\n",
       "      <td>us7000j3yb</td>\n",
       "      <td>4.20</td>\n",
       "      <td>5 km NNE of Jayapura, Indonesia</td>\n",
       "      <td>1672617569195</td>\n",
       "      <td>1678575106040</td>\n",
       "      <td>None</td>\n",
       "      <td>https://earthquake.usgs.gov/earthquakes/eventp...</td>\n",
       "      <td>https://earthquake.usgs.gov/fdsnws/event/1/que...</td>\n",
       "      <td>&lt;NA&gt;</td>\n",
       "      <td>...</td>\n",
       "      <td>10.00</td>\n",
       "      <td>1700558827000</td>\n",
       "      <td>https://earthquake.usgs.gov/fdsnws/event/1/que...</td>\n",
       "      <td>USGS Earthquakes</td>\n",
       "      <td>200</td>\n",
       "      <td>1.14.0</td>\n",
       "      <td>349</td>\n",
       "      <td>2023-11-21 09:27:07</td>\n",
       "      <td>2023-01-01 23:59:29.195</td>\n",
       "      <td>2023-03-11 22:51:46.040</td>\n",
       "    </tr>\n",
       "    <tr>\n",
       "      <th>1</th>\n",
       "      <td>Feature</td>\n",
       "      <td>pr2023001004</td>\n",
       "      <td>3.62</td>\n",
       "      <td>103 km N of Suárez, Puerto Rico</td>\n",
       "      <td>1672617413930</td>\n",
       "      <td>1672619526212</td>\n",
       "      <td>None</td>\n",
       "      <td>https://earthquake.usgs.gov/earthquakes/eventp...</td>\n",
       "      <td>https://earthquake.usgs.gov/fdsnws/event/1/que...</td>\n",
       "      <td>&lt;NA&gt;</td>\n",
       "      <td>...</td>\n",
       "      <td>34.00</td>\n",
       "      <td>1700558827000</td>\n",
       "      <td>https://earthquake.usgs.gov/fdsnws/event/1/que...</td>\n",
       "      <td>USGS Earthquakes</td>\n",
       "      <td>200</td>\n",
       "      <td>1.14.0</td>\n",
       "      <td>349</td>\n",
       "      <td>2023-11-21 09:27:07</td>\n",
       "      <td>2023-01-01 23:56:53.930</td>\n",
       "      <td>2023-01-02 00:32:06.212</td>\n",
       "    </tr>\n",
       "    <tr>\n",
       "      <th>2</th>\n",
       "      <td>Feature</td>\n",
       "      <td>av91082783</td>\n",
       "      <td>-0.76</td>\n",
       "      <td>85 km NNW of Karluk, Alaska</td>\n",
       "      <td>1672617277550</td>\n",
       "      <td>1672860382700</td>\n",
       "      <td>None</td>\n",
       "      <td>https://earthquake.usgs.gov/earthquakes/eventp...</td>\n",
       "      <td>https://earthquake.usgs.gov/fdsnws/event/1/que...</td>\n",
       "      <td>&lt;NA&gt;</td>\n",
       "      <td>...</td>\n",
       "      <td>3.08</td>\n",
       "      <td>1700558827000</td>\n",
       "      <td>https://earthquake.usgs.gov/fdsnws/event/1/que...</td>\n",
       "      <td>USGS Earthquakes</td>\n",
       "      <td>200</td>\n",
       "      <td>1.14.0</td>\n",
       "      <td>349</td>\n",
       "      <td>2023-11-21 09:27:07</td>\n",
       "      <td>2023-01-01 23:54:37.550</td>\n",
       "      <td>2023-01-04 19:26:22.700</td>\n",
       "    </tr>\n",
       "    <tr>\n",
       "      <th>3</th>\n",
       "      <td>Feature</td>\n",
       "      <td>nc73827681</td>\n",
       "      <td>0.57</td>\n",
       "      <td>10km NW of The Geysers, CA</td>\n",
       "      <td>1672617223560</td>\n",
       "      <td>1673410751822</td>\n",
       "      <td>None</td>\n",
       "      <td>https://earthquake.usgs.gov/earthquakes/eventp...</td>\n",
       "      <td>https://earthquake.usgs.gov/fdsnws/event/1/que...</td>\n",
       "      <td>&lt;NA&gt;</td>\n",
       "      <td>...</td>\n",
       "      <td>2.06</td>\n",
       "      <td>1700558827000</td>\n",
       "      <td>https://earthquake.usgs.gov/fdsnws/event/1/que...</td>\n",
       "      <td>USGS Earthquakes</td>\n",
       "      <td>200</td>\n",
       "      <td>1.14.0</td>\n",
       "      <td>349</td>\n",
       "      <td>2023-11-21 09:27:07</td>\n",
       "      <td>2023-01-01 23:53:43.560</td>\n",
       "      <td>2023-01-11 04:19:11.822</td>\n",
       "    </tr>\n",
       "    <tr>\n",
       "      <th>4</th>\n",
       "      <td>Feature</td>\n",
       "      <td>pr71390293</td>\n",
       "      <td>2.28</td>\n",
       "      <td>None</td>\n",
       "      <td>1672617148580</td>\n",
       "      <td>1672618140720</td>\n",
       "      <td>None</td>\n",
       "      <td>https://earthquake.usgs.gov/earthquakes/eventp...</td>\n",
       "      <td>https://earthquake.usgs.gov/fdsnws/event/1/que...</td>\n",
       "      <td>&lt;NA&gt;</td>\n",
       "      <td>...</td>\n",
       "      <td>11.19</td>\n",
       "      <td>1700558827000</td>\n",
       "      <td>https://earthquake.usgs.gov/fdsnws/event/1/que...</td>\n",
       "      <td>USGS Earthquakes</td>\n",
       "      <td>200</td>\n",
       "      <td>1.14.0</td>\n",
       "      <td>349</td>\n",
       "      <td>2023-11-21 09:27:07</td>\n",
       "      <td>2023-01-01 23:52:28.580</td>\n",
       "      <td>2023-01-02 00:09:00.720</td>\n",
       "    </tr>\n",
       "  </tbody>\n",
       "</table>\n",
       "<p>5 rows × 41 columns</p>\n",
       "</div>"
      ],
      "text/plain": [
       "      type            id  properties_mag                 properties_place  \\\n",
       "0  Feature    us7000j3yb            4.20  5 km NNE of Jayapura, Indonesia   \n",
       "1  Feature  pr2023001004            3.62  103 km N of Suárez, Puerto Rico   \n",
       "2  Feature    av91082783           -0.76      85 km NNW of Karluk, Alaska   \n",
       "3  Feature    nc73827681            0.57       10km NW of The Geysers, CA   \n",
       "4  Feature    pr71390293            2.28                             None   \n",
       "\n",
       "   properties_time  properties_updated properties_tz  \\\n",
       "0    1672617569195       1678575106040          None   \n",
       "1    1672617413930       1672619526212          None   \n",
       "2    1672617277550       1672860382700          None   \n",
       "3    1672617223560       1673410751822          None   \n",
       "4    1672617148580       1672618140720          None   \n",
       "\n",
       "                                      properties_url  \\\n",
       "0  https://earthquake.usgs.gov/earthquakes/eventp...   \n",
       "1  https://earthquake.usgs.gov/earthquakes/eventp...   \n",
       "2  https://earthquake.usgs.gov/earthquakes/eventp...   \n",
       "3  https://earthquake.usgs.gov/earthquakes/eventp...   \n",
       "4  https://earthquake.usgs.gov/earthquakes/eventp...   \n",
       "\n",
       "                                   properties_detail  properties_felt  ...  \\\n",
       "0  https://earthquake.usgs.gov/fdsnws/event/1/que...             <NA>  ...   \n",
       "1  https://earthquake.usgs.gov/fdsnws/event/1/que...             <NA>  ...   \n",
       "2  https://earthquake.usgs.gov/fdsnws/event/1/que...             <NA>  ...   \n",
       "3  https://earthquake.usgs.gov/fdsnws/event/1/que...             <NA>  ...   \n",
       "4  https://earthquake.usgs.gov/fdsnws/event/1/que...             <NA>  ...   \n",
       "\n",
       "   geometry_coordinates_depth  metadata_generated  \\\n",
       "0                       10.00       1700558827000   \n",
       "1                       34.00       1700558827000   \n",
       "2                        3.08       1700558827000   \n",
       "3                        2.06       1700558827000   \n",
       "4                       11.19       1700558827000   \n",
       "\n",
       "                                        metadata_url    metadata_title  \\\n",
       "0  https://earthquake.usgs.gov/fdsnws/event/1/que...  USGS Earthquakes   \n",
       "1  https://earthquake.usgs.gov/fdsnws/event/1/que...  USGS Earthquakes   \n",
       "2  https://earthquake.usgs.gov/fdsnws/event/1/que...  USGS Earthquakes   \n",
       "3  https://earthquake.usgs.gov/fdsnws/event/1/que...  USGS Earthquakes   \n",
       "4  https://earthquake.usgs.gov/fdsnws/event/1/que...  USGS Earthquakes   \n",
       "\n",
       "   metadata_status  metadata_api metadata_count metadata_generated_datetime  \\\n",
       "0              200        1.14.0            349         2023-11-21 09:27:07   \n",
       "1              200        1.14.0            349         2023-11-21 09:27:07   \n",
       "2              200        1.14.0            349         2023-11-21 09:27:07   \n",
       "3              200        1.14.0            349         2023-11-21 09:27:07   \n",
       "4              200        1.14.0            349         2023-11-21 09:27:07   \n",
       "\n",
       "  properties_time_datetime properties_updated_datetime  \n",
       "0  2023-01-01 23:59:29.195     2023-03-11 22:51:46.040  \n",
       "1  2023-01-01 23:56:53.930     2023-01-02 00:32:06.212  \n",
       "2  2023-01-01 23:54:37.550     2023-01-04 19:26:22.700  \n",
       "3  2023-01-01 23:53:43.560     2023-01-11 04:19:11.822  \n",
       "4  2023-01-01 23:52:28.580     2023-01-02 00:09:00.720  \n",
       "\n",
       "[5 rows x 41 columns]"
      ]
     },
     "execution_count": 3,
     "metadata": {},
     "output_type": "execute_result"
    }
   ],
   "source": [
    "df_pq = pd.read_parquet(\"../data/raw/parquet/data_2023-01-01.parquet\")\n",
    "\n",
    "df_pq.head()"
   ]
  },
  {
   "cell_type": "markdown",
   "id": "24190066-229e-4bc4-b85a-f70f90d49d05",
   "metadata": {
    "jp-MarkdownHeadingCollapsed": true
   },
   "source": [
    "## Upload json and parquet data to data lake"
   ]
  },
  {
   "cell_type": "code",
   "execution_count": null,
   "id": "f0d28e27-462b-4665-a442-9202c6ffb3b7",
   "metadata": {},
   "outputs": [],
   "source": [
    "def upload_to_gcs(local_path, bucket, dstination_path):\n",
    "  pass"
   ]
  },
  {
   "cell_type": "markdown",
   "id": "88dda993-a771-4a4c-aaaa-3b93e44c961e",
   "metadata": {},
   "source": [
    "# Transform with Spark "
   ]
  },
  {
   "cell_type": "code",
   "execution_count": 1,
   "metadata": {},
   "outputs": [],
   "source": [
    "import pandas as pd"
   ]
  },
  {
   "cell_type": "code",
   "execution_count": 44,
   "id": "2ebc032c-aef9-452a-9d19-e4c6a0ee9958",
   "metadata": {},
   "outputs": [
    {
     "data": {
      "text/html": [
       "<div>\n",
       "<style scoped>\n",
       "    .dataframe tbody tr th:only-of-type {\n",
       "        vertical-align: middle;\n",
       "    }\n",
       "\n",
       "    .dataframe tbody tr th {\n",
       "        vertical-align: top;\n",
       "    }\n",
       "\n",
       "    .dataframe thead th {\n",
       "        text-align: right;\n",
       "    }\n",
       "</style>\n",
       "<table border=\"1\" class=\"dataframe\">\n",
       "  <thead>\n",
       "    <tr style=\"text-align: right;\">\n",
       "      <th></th>\n",
       "      <th>type</th>\n",
       "      <th>id</th>\n",
       "      <th>properties_mag</th>\n",
       "      <th>properties_place</th>\n",
       "      <th>properties_time</th>\n",
       "      <th>properties_updated</th>\n",
       "      <th>properties_tz</th>\n",
       "      <th>properties_url</th>\n",
       "      <th>properties_detail</th>\n",
       "      <th>properties_felt</th>\n",
       "      <th>...</th>\n",
       "      <th>geometry_coordinates_depth</th>\n",
       "      <th>metadata_generated</th>\n",
       "      <th>metadata_url</th>\n",
       "      <th>metadata_title</th>\n",
       "      <th>metadata_status</th>\n",
       "      <th>metadata_api</th>\n",
       "      <th>metadata_count</th>\n",
       "      <th>metadata_generated_datetime</th>\n",
       "      <th>properties_time_datetime</th>\n",
       "      <th>properties_updated_datetime</th>\n",
       "    </tr>\n",
       "  </thead>\n",
       "  <tbody>\n",
       "    <tr>\n",
       "      <th>0</th>\n",
       "      <td>Feature</td>\n",
       "      <td>us7000j3yb</td>\n",
       "      <td>4.20</td>\n",
       "      <td>5 km NNE of Jayapura, Indonesia</td>\n",
       "      <td>1672617569195</td>\n",
       "      <td>1678575106040</td>\n",
       "      <td>None</td>\n",
       "      <td>https://earthquake.usgs.gov/earthquakes/eventp...</td>\n",
       "      <td>https://earthquake.usgs.gov/fdsnws/event/1/que...</td>\n",
       "      <td>&lt;NA&gt;</td>\n",
       "      <td>...</td>\n",
       "      <td>10.00</td>\n",
       "      <td>1700570933000</td>\n",
       "      <td>https://earthquake.usgs.gov/fdsnws/event/1/que...</td>\n",
       "      <td>USGS Earthquakes</td>\n",
       "      <td>200</td>\n",
       "      <td>1.14.0</td>\n",
       "      <td>349</td>\n",
       "      <td>2023-11-21 12:48:53</td>\n",
       "      <td>2023-01-01 23:59:29.195</td>\n",
       "      <td>2023-03-11 22:51:46.040</td>\n",
       "    </tr>\n",
       "    <tr>\n",
       "      <th>1</th>\n",
       "      <td>Feature</td>\n",
       "      <td>pr2023001004</td>\n",
       "      <td>3.62</td>\n",
       "      <td>103 km N of Suárez, Puerto Rico</td>\n",
       "      <td>1672617413930</td>\n",
       "      <td>1672619526212</td>\n",
       "      <td>None</td>\n",
       "      <td>https://earthquake.usgs.gov/earthquakes/eventp...</td>\n",
       "      <td>https://earthquake.usgs.gov/fdsnws/event/1/que...</td>\n",
       "      <td>&lt;NA&gt;</td>\n",
       "      <td>...</td>\n",
       "      <td>34.00</td>\n",
       "      <td>1700570933000</td>\n",
       "      <td>https://earthquake.usgs.gov/fdsnws/event/1/que...</td>\n",
       "      <td>USGS Earthquakes</td>\n",
       "      <td>200</td>\n",
       "      <td>1.14.0</td>\n",
       "      <td>349</td>\n",
       "      <td>2023-11-21 12:48:53</td>\n",
       "      <td>2023-01-01 23:56:53.930</td>\n",
       "      <td>2023-01-02 00:32:06.212</td>\n",
       "    </tr>\n",
       "    <tr>\n",
       "      <th>2</th>\n",
       "      <td>Feature</td>\n",
       "      <td>av91082783</td>\n",
       "      <td>-0.76</td>\n",
       "      <td>85 km NNW of Karluk, Alaska</td>\n",
       "      <td>1672617277550</td>\n",
       "      <td>1672860382700</td>\n",
       "      <td>None</td>\n",
       "      <td>https://earthquake.usgs.gov/earthquakes/eventp...</td>\n",
       "      <td>https://earthquake.usgs.gov/fdsnws/event/1/que...</td>\n",
       "      <td>&lt;NA&gt;</td>\n",
       "      <td>...</td>\n",
       "      <td>3.08</td>\n",
       "      <td>1700570933000</td>\n",
       "      <td>https://earthquake.usgs.gov/fdsnws/event/1/que...</td>\n",
       "      <td>USGS Earthquakes</td>\n",
       "      <td>200</td>\n",
       "      <td>1.14.0</td>\n",
       "      <td>349</td>\n",
       "      <td>2023-11-21 12:48:53</td>\n",
       "      <td>2023-01-01 23:54:37.550</td>\n",
       "      <td>2023-01-04 19:26:22.700</td>\n",
       "    </tr>\n",
       "    <tr>\n",
       "      <th>3</th>\n",
       "      <td>Feature</td>\n",
       "      <td>nc73827681</td>\n",
       "      <td>0.57</td>\n",
       "      <td>10km NW of The Geysers, CA</td>\n",
       "      <td>1672617223560</td>\n",
       "      <td>1673410751822</td>\n",
       "      <td>None</td>\n",
       "      <td>https://earthquake.usgs.gov/earthquakes/eventp...</td>\n",
       "      <td>https://earthquake.usgs.gov/fdsnws/event/1/que...</td>\n",
       "      <td>&lt;NA&gt;</td>\n",
       "      <td>...</td>\n",
       "      <td>2.06</td>\n",
       "      <td>1700570933000</td>\n",
       "      <td>https://earthquake.usgs.gov/fdsnws/event/1/que...</td>\n",
       "      <td>USGS Earthquakes</td>\n",
       "      <td>200</td>\n",
       "      <td>1.14.0</td>\n",
       "      <td>349</td>\n",
       "      <td>2023-11-21 12:48:53</td>\n",
       "      <td>2023-01-01 23:53:43.560</td>\n",
       "      <td>2023-01-11 04:19:11.822</td>\n",
       "    </tr>\n",
       "    <tr>\n",
       "      <th>4</th>\n",
       "      <td>Feature</td>\n",
       "      <td>pr71390293</td>\n",
       "      <td>2.28</td>\n",
       "      <td>None</td>\n",
       "      <td>1672617148580</td>\n",
       "      <td>1672618140720</td>\n",
       "      <td>None</td>\n",
       "      <td>https://earthquake.usgs.gov/earthquakes/eventp...</td>\n",
       "      <td>https://earthquake.usgs.gov/fdsnws/event/1/que...</td>\n",
       "      <td>&lt;NA&gt;</td>\n",
       "      <td>...</td>\n",
       "      <td>11.19</td>\n",
       "      <td>1700570933000</td>\n",
       "      <td>https://earthquake.usgs.gov/fdsnws/event/1/que...</td>\n",
       "      <td>USGS Earthquakes</td>\n",
       "      <td>200</td>\n",
       "      <td>1.14.0</td>\n",
       "      <td>349</td>\n",
       "      <td>2023-11-21 12:48:53</td>\n",
       "      <td>2023-01-01 23:52:28.580</td>\n",
       "      <td>2023-01-02 00:09:00.720</td>\n",
       "    </tr>\n",
       "  </tbody>\n",
       "</table>\n",
       "<p>5 rows × 41 columns</p>\n",
       "</div>"
      ],
      "text/plain": [
       "      type            id  properties_mag                 properties_place  \\\n",
       "0  Feature    us7000j3yb            4.20  5 km NNE of Jayapura, Indonesia   \n",
       "1  Feature  pr2023001004            3.62  103 km N of Suárez, Puerto Rico   \n",
       "2  Feature    av91082783           -0.76      85 km NNW of Karluk, Alaska   \n",
       "3  Feature    nc73827681            0.57       10km NW of The Geysers, CA   \n",
       "4  Feature    pr71390293            2.28                             None   \n",
       "\n",
       "   properties_time  properties_updated properties_tz  \\\n",
       "0    1672617569195       1678575106040          None   \n",
       "1    1672617413930       1672619526212          None   \n",
       "2    1672617277550       1672860382700          None   \n",
       "3    1672617223560       1673410751822          None   \n",
       "4    1672617148580       1672618140720          None   \n",
       "\n",
       "                                      properties_url  \\\n",
       "0  https://earthquake.usgs.gov/earthquakes/eventp...   \n",
       "1  https://earthquake.usgs.gov/earthquakes/eventp...   \n",
       "2  https://earthquake.usgs.gov/earthquakes/eventp...   \n",
       "3  https://earthquake.usgs.gov/earthquakes/eventp...   \n",
       "4  https://earthquake.usgs.gov/earthquakes/eventp...   \n",
       "\n",
       "                                   properties_detail  properties_felt  ...  \\\n",
       "0  https://earthquake.usgs.gov/fdsnws/event/1/que...             <NA>  ...   \n",
       "1  https://earthquake.usgs.gov/fdsnws/event/1/que...             <NA>  ...   \n",
       "2  https://earthquake.usgs.gov/fdsnws/event/1/que...             <NA>  ...   \n",
       "3  https://earthquake.usgs.gov/fdsnws/event/1/que...             <NA>  ...   \n",
       "4  https://earthquake.usgs.gov/fdsnws/event/1/que...             <NA>  ...   \n",
       "\n",
       "   geometry_coordinates_depth  metadata_generated  \\\n",
       "0                       10.00       1700570933000   \n",
       "1                       34.00       1700570933000   \n",
       "2                        3.08       1700570933000   \n",
       "3                        2.06       1700570933000   \n",
       "4                       11.19       1700570933000   \n",
       "\n",
       "                                        metadata_url    metadata_title  \\\n",
       "0  https://earthquake.usgs.gov/fdsnws/event/1/que...  USGS Earthquakes   \n",
       "1  https://earthquake.usgs.gov/fdsnws/event/1/que...  USGS Earthquakes   \n",
       "2  https://earthquake.usgs.gov/fdsnws/event/1/que...  USGS Earthquakes   \n",
       "3  https://earthquake.usgs.gov/fdsnws/event/1/que...  USGS Earthquakes   \n",
       "4  https://earthquake.usgs.gov/fdsnws/event/1/que...  USGS Earthquakes   \n",
       "\n",
       "   metadata_status  metadata_api metadata_count metadata_generated_datetime  \\\n",
       "0              200        1.14.0            349         2023-11-21 12:48:53   \n",
       "1              200        1.14.0            349         2023-11-21 12:48:53   \n",
       "2              200        1.14.0            349         2023-11-21 12:48:53   \n",
       "3              200        1.14.0            349         2023-11-21 12:48:53   \n",
       "4              200        1.14.0            349         2023-11-21 12:48:53   \n",
       "\n",
       "  properties_time_datetime properties_updated_datetime  \n",
       "0  2023-01-01 23:59:29.195     2023-03-11 22:51:46.040  \n",
       "1  2023-01-01 23:56:53.930     2023-01-02 00:32:06.212  \n",
       "2  2023-01-01 23:54:37.550     2023-01-04 19:26:22.700  \n",
       "3  2023-01-01 23:53:43.560     2023-01-11 04:19:11.822  \n",
       "4  2023-01-01 23:52:28.580     2023-01-02 00:09:00.720  \n",
       "\n",
       "[5 rows x 41 columns]"
      ]
     },
     "execution_count": 44,
     "metadata": {},
     "output_type": "execute_result"
    }
   ],
   "source": [
    "df_pandas = pd.read_parquet(\"../data/raw/parquet/data_2023-01-01.parquet\")\n",
    "\n",
    "df_pandas.head()"
   ]
  },
  {
   "cell_type": "code",
   "execution_count": 55,
   "id": "c3e15717-6c94-4fa6-966e-a6ba2ad3ae2c",
   "metadata": {},
   "outputs": [
    {
     "name": "stdout",
     "output_type": "stream",
     "text": [
      "<class 'pandas.core.frame.DataFrame'>\n",
      "RangeIndex: 349 entries, 0 to 348\n",
      "Data columns (total 41 columns):\n",
      " #   Column                          Non-Null Count  Dtype         \n",
      "---  ------                          --------------  -----         \n",
      " 0   type                            349 non-null    object        \n",
      " 1   id                              349 non-null    object        \n",
      " 2   properties_mag                  348 non-null    float64       \n",
      " 3   properties_place                327 non-null    object        \n",
      " 4   properties_time                 349 non-null    int64         \n",
      " 5   properties_updated              349 non-null    int64         \n",
      " 6   properties_tz                   0 non-null      object        \n",
      " 7   properties_url                  349 non-null    object        \n",
      " 8   properties_detail               349 non-null    object        \n",
      " 9   properties_felt                 31 non-null     Int64         \n",
      " 10  properties_cdi                  31 non-null     float64       \n",
      " 11  properties_mmi                  7 non-null      float64       \n",
      " 12  properties_alert                5 non-null      object        \n",
      " 13  properties_status               349 non-null    object        \n",
      " 14  properties_tsunami              349 non-null    int64         \n",
      " 15  properties_sig                  349 non-null    int64         \n",
      " 16  properties_net                  349 non-null    object        \n",
      " 17  properties_code                 349 non-null    object        \n",
      " 18  properties_ids                  349 non-null    object        \n",
      " 19  properties_sources              349 non-null    object        \n",
      " 20  properties_types                349 non-null    object        \n",
      " 21  properties_nst                  272 non-null    Int64         \n",
      " 22  properties_dmin                 205 non-null    float64       \n",
      " 23  properties_rms                  349 non-null    float64       \n",
      " 24  properties_gap                  272 non-null    float64       \n",
      " 25  properties_magType              348 non-null    object        \n",
      " 26  properties_type                 349 non-null    object        \n",
      " 27  properties_title                349 non-null    object        \n",
      " 28  geometry_type                   349 non-null    object        \n",
      " 29  geometry_coordinates_latitude   349 non-null    float64       \n",
      " 30  geometry_coordinates_longitude  349 non-null    float64       \n",
      " 31  geometry_coordinates_depth      349 non-null    float64       \n",
      " 32  metadata_generated              349 non-null    int64         \n",
      " 33  metadata_url                    349 non-null    object        \n",
      " 34  metadata_title                  349 non-null    object        \n",
      " 35  metadata_status                 349 non-null    int64         \n",
      " 36  metadata_api                    349 non-null    object        \n",
      " 37  metadata_count                  349 non-null    int64         \n",
      " 38  metadata_generated_datetime     349 non-null    datetime64[ns]\n",
      " 39  properties_time_datetime        349 non-null    datetime64[ns]\n",
      " 40  properties_updated_datetime     349 non-null    datetime64[ns]\n",
      "dtypes: Int64(2), datetime64[ns](3), float64(9), int64(7), object(20)\n",
      "memory usage: 112.6+ KB\n"
     ]
    }
   ],
   "source": [
    "df_pandas.info()"
   ]
  },
  {
   "cell_type": "markdown",
   "metadata": {},
   "source": [
    "| Column | Description | Type |\n",
    "| --- | --- | --- |\n",
    "| type |  |  |\n",
    "| id | A unique identifier for the event. | String |\n",
    "| properties_mag | The magnitude of the earthquake. | Float |\n",
    "| properties_place | The location of the earthquake. | String |\n",
    "| properties_time | The time of the earthquake. | Datetime |\n",
    "| properties_updated | The time the earthquake was last updated. | Datetime |\n",
    "| properties_tz | Timezone offset from UTC in minutes at the event epicenter. | Integer |\n",
    "| properties_url | Link to USGS Event Page for event. | String |\n",
    "| properties_detail | Link to GeoJSON detail feed from a GeoJSON summary feed. | String |\n",
    "| properties_felt | The total number of felt reports submitted to the DYFI? system. | Integer |\n",
    "| properties_cdi | The maximum reported intensity for the event. | Float |\n",
    "| properties_mmi | The maximum estimated instrumental intensity for the event. | Float |\n",
    "| properties_alert | The alert level from the PAGER earthquake impact scale. | String |\n",
    "| properties_status | Status is either automatic or reviewed. | String |\n",
    "| properties_tsunami | This flag is set to \"1\" for large events in oceanic regions and \"0\" otherwise. | Integer |\n",
    "| properties_sig | A number describing how significant the event is. | Integer |\n",
    "| properties_net | The ID of a data contributor. | String |\n",
    "| properties_code | An identifying code assigned by - and unique from - the corresponding source for the event. | String |\n",
    "| properties_ids | A comma-separated list of event ids that are associated to an event. | String |\n",
    "| properties_sources | A comma-separated list of network contributors. | String |\n",
    "| properties_types | A comma-separated list of product types associated to this event. | String |\n",
    "| properties_nst | Number of seismic stations which reported P- and S-arrival times for this earthquake. | Integer |\n",
    "| properties_dmin | Horizontal distance from the epicenter to the nearest station (in degrees). | Float |\n",
    "| properties_rms | The root-mean-square (RMS) travel time residual, in sec, using all weights. | Float |\n",
    "| properties_gap | The largest azimuthal gap between azimuthally adjacent stations (in degrees). | Float |\n",
    "| properties_magType | The method or algorithm used to calculate the preferred magnitude for the event. | String |\n",
    "| properties_type | A comma-separated list of product types associated to this event. | String |\n",
    "| properties_title |  | String |\n",
    "| geometry_type |  |  |\n",
    "| geometry_coordinates_latitude | Decimal degrees latitude. Negative values for southern latitudes. | Float |\n",
    "| geometry_coordinates_longitude | Decimal degrees longitude. Negative values for western longitudes. | Float |\n",
    "| geometry_coordinates_depth | The depth where the earthquake begins to rupture. | Float |\n",
    "| metadata_generated | Time when the feed was most recently updated. Times are reported in milliseconds since the epoch. | Integer |\n",
    "| metadata_url | Url of the feed. | String |\n",
    "| metadata_title | The title of the feed. | String |\n",
    "| metadata_status | HTTP status code of response. | String |\n",
    "| metadata_api | Version of API that generated feed. | String |\n",
    "| metadata_count | Number of earthquakes in feed. | Integer |\n",
    "| metadata_generated_datetime | Datetime format of metadata_generated | Datetime |\n",
    "| properties_time_datetime | Datetime format of properties_time | Datetime |\n",
    "| properties_updated_datetime | Datetime format of properties_updated | Datetime |"
   ]
  },
  {
   "cell_type": "code",
   "execution_count": 4,
   "id": "c7f9e3ca-1805-4c48-b289-091acb80bc7b",
   "metadata": {},
   "outputs": [
    {
     "data": {
      "text/plain": [
       "Alaska                            112\n",
       "CA                                106\n",
       "Hawaii                             24\n",
       "Puerto Rico                        15\n",
       "Indonesia                           7\n",
       "Nevada                              5\n",
       "Texas                               4\n",
       "Puerto Rico region                  4\n",
       "New Mexico                          3\n",
       "Alaska Peninsula                    3\n",
       "Papua New Guinea                    3\n",
       "Philippines                         3\n",
       "Vanuatu                             2\n",
       "Oklahoma                            2\n",
       "Central Alaska                      2\n",
       "Washington                          2\n",
       "Chile                               2\n",
       "Southern Alaska                     2\n",
       "Fiji region                         2\n",
       "Wyoming                             1\n",
       "Japan                               1\n",
       "Utah                                1\n",
       "Afghanistan                         1\n",
       "Mid-Indian Ridge                    1\n",
       "Myanmar                             1\n",
       "Tonga                               1\n",
       "Kashmir-Xinjiang border region      1\n",
       "Missouri                            1\n",
       "California                          1\n",
       "Scotia Sea                          1\n",
       "Colorado                            1\n",
       "south of the Fiji Islands           1\n",
       "western Texas                       1\n",
       "southern East Pacific Rise          1\n",
       "Azores Islands region               1\n",
       "Northern Mariana Islands            1\n",
       "Pakistan                            1\n",
       "Bolivia                             1\n",
       "Tajikistan                          1\n",
       "Canada                              1\n",
       "Dominican Republic                  1\n",
       "Sea of Japan                        1\n",
       "Idaho                               1\n",
       "Name: properties_place, dtype: int64"
      ]
     },
     "execution_count": 4,
     "metadata": {},
     "output_type": "execute_result"
    }
   ],
   "source": [
    "df_pandas[\"properties_place\"].apply(lambda x: x.split(\",\")[-1].strip() if x is not None else None).value_counts()"
   ]
  },
  {
   "cell_type": "code",
   "execution_count": 2,
   "id": "cbe5c61e-bbbb-4b94-90ac-f7c6d54c4f05",
   "metadata": {},
   "outputs": [],
   "source": [
    "import pyspark\n",
    "from pyspark.sql import SparkSession\n",
    "from pyspark.sql import functions as F\n",
    "from pyspark.conf import SparkConf\n",
    "from pyspark.context import SparkContext"
   ]
  },
  {
   "cell_type": "code",
   "execution_count": 3,
   "id": "caa54249-af1c-4fe9-b100-8402ad5073ab",
   "metadata": {},
   "outputs": [
    {
     "data": {
      "text/plain": [
       "'3.2.4'"
      ]
     },
     "execution_count": 3,
     "metadata": {},
     "output_type": "execute_result"
    }
   ],
   "source": [
    "pyspark.__version__"
   ]
  },
  {
   "cell_type": "code",
   "execution_count": 4,
   "metadata": {},
   "outputs": [],
   "source": [
    "import os\n",
    "\n",
    "GOOGLE_APPLICATION_CREDENTIALS = os.environ.get(\"GOOGLE_APPLICATION_CREDENTIALS\")"
   ]
  },
  {
   "cell_type": "code",
   "execution_count": 5,
   "metadata": {},
   "outputs": [],
   "source": [
    "conf = SparkConf() \\\n",
    "    .setMaster('local[*]') \\\n",
    "    .setAppName('test') \\\n",
    "    .set(\"spark.jars\", f\"{os.environ.get('HOME')}/dev/lib/gcs-connector-hadoop3-2.2.5.jar\") \\\n",
    "    .set(\"spark.hadoop.google.cloud.auth.service.account.enable\", \"true\") \\\n",
    "    .set(\"spark.hadoop.google.cloud.auth.service.account.json.keyfile\", GOOGLE_APPLICATION_CREDENTIALS)"
   ]
  },
  {
   "cell_type": "code",
   "execution_count": 6,
   "metadata": {},
   "outputs": [
    {
     "name": "stderr",
     "output_type": "stream",
     "text": [
      "WARNING: An illegal reflective access operation has occurred\n",
      "WARNING: Illegal reflective access by org.apache.spark.unsafe.Platform (file:/opt/spark-3.2.4-bin-hadoop3.2/jars/spark-unsafe_2.12-3.2.4.jar) to constructor java.nio.DirectByteBuffer(long,int)\n",
      "WARNING: Please consider reporting this to the maintainers of org.apache.spark.unsafe.Platform\n",
      "WARNING: Use --illegal-access=warn to enable warnings of further illegal reflective access operations\n",
      "WARNING: All illegal access operations will be denied in a future release\n",
      "23/11/24 07:47:04 WARN NativeCodeLoader: Unable to load native-hadoop library for your platform... using builtin-java classes where applicable\n",
      "Using Spark's default log4j profile: org/apache/spark/log4j-defaults.properties\n",
      "Setting default log level to \"WARN\".\n",
      "To adjust logging level use sc.setLogLevel(newLevel). For SparkR, use setLogLevel(newLevel).\n"
     ]
    }
   ],
   "source": [
    "sc = SparkContext(conf=conf)\n",
    "\n",
    "hadoop_conf = sc._jsc.hadoopConfiguration()\n",
    "\n",
    "hadoop_conf.set(\"fs.AbstractFileSystem.gs.impl\",  \"com.google.cloud.hadoop.fs.gcs.GoogleHadoopFS\")\n",
    "hadoop_conf.set(\"fs.gs.impl\", \"com.google.cloud.hadoop.fs.gcs.GoogleHadoopFileSystem\")\n",
    "hadoop_conf.set(\"fs.gs.auth.service.account.json.keyfile\", GOOGLE_APPLICATION_CREDENTIALS)\n",
    "hadoop_conf.set(\"fs.gs.auth.service.account.enable\", \"true\")"
   ]
  },
  {
   "cell_type": "code",
   "execution_count": 7,
   "id": "6a0a3a2c-9e44-4679-850d-22fa6692f992",
   "metadata": {},
   "outputs": [],
   "source": [
    "spark = SparkSession.builder.config(conf=sc.getConf()).getOrCreate()"
   ]
  },
  {
   "cell_type": "code",
   "execution_count": 30,
   "id": "09634691-f0bd-4241-8d27-1a4a12a5c098",
   "metadata": {},
   "outputs": [],
   "source": [
    "df = spark.read.option(\"inferSchema\", \"true\").parquet(\"gs://earthquake-usgs_data/raw/parquet/data_2023-01-01.parquet\")"
   ]
  },
  {
   "cell_type": "code",
   "execution_count": 31,
   "id": "3b5e9fbc-a2e6-47f0-949c-066d3df7988d",
   "metadata": {},
   "outputs": [
    {
     "name": "stdout",
     "output_type": "stream",
     "text": [
      "+-------+------------+--------------+--------------------+---------------+------------------+-------------+--------------------+--------------------+---------------+--------------+--------------+----------------+-----------------+------------------+--------------+--------------+---------------+--------------------+------------------+--------------------+--------------+---------------+--------------+--------------+------------------+---------------+--------------------+-------------+-----------------------------+------------------------------+--------------------------+------------------+--------------------+----------------+---------------+------------+--------------+\n",
      "|   type|          id|properties_mag|    properties_place|properties_time|properties_updated|properties_tz|      properties_url|   properties_detail|properties_felt|properties_cdi|properties_mmi|properties_alert|properties_status|properties_tsunami|properties_sig|properties_net|properties_code|      properties_ids|properties_sources|    properties_types|properties_nst|properties_dmin|properties_rms|properties_gap|properties_magType|properties_type|    properties_title|geometry_type|geometry_coordinates_latitude|geometry_coordinates_longitude|geometry_coordinates_depth|metadata.generated|        metadata.url|  metadata.title|metadata.status|metadata.api|metadata.count|\n",
      "+-------+------------+--------------+--------------------+---------------+------------------+-------------+--------------------+--------------------+---------------+--------------+--------------+----------------+-----------------+------------------+--------------+--------------+---------------+--------------------+------------------+--------------------+--------------+---------------+--------------+--------------+------------------+---------------+--------------------+-------------+-----------------------------+------------------------------+--------------------------+------------------+--------------------+----------------+---------------+------------+--------------+\n",
      "|Feature|  us7000j3yb|           4.2|5 km NNE of Jayap...|  1672617569195|     1678575106040|         null|https://earthquak...|https://earthquak...|           null|          null|          null|            null|         reviewed|                 0|           271|            us|       7000j3yb|        ,us7000j3yb,|              ,us,| ,origin,phase-data,|            19|         16.495|          0.45|          99.0|                mb|     earthquake|M 4.2 - 5 km NNE ...|        Point|                     140.7385|                        -2.493|                      10.0|     1700812728000|https://earthquak...|USGS Earthquakes|            200|      1.14.0|           349|\n",
      "|Feature|pr2023001004|          3.62|103 km N of Suáre...|  1672617413930|     1672619526212|         null|https://earthquak...|https://earthquak...|           null|          null|          null|            null|         reviewed|                 0|           202|            pr|     2023001004|      ,pr2023001004,|              ,pr,| ,origin,phase-data,|            14|         1.1104|          0.44|         270.0|                md|     earthquake|M 3.6 - 103 km N ...|        Point|                     -65.7256|                       19.3601|                      34.0|     1700812728000|https://earthquak...|USGS Earthquakes|            200|      1.14.0|           349|\n",
      "|Feature|  av91082783|         -0.76|85 km NNW of Karl...|  1672617277550|     1672860382700|         null|https://earthquak...|https://earthquak...|           null|          null|          null|            null|         reviewed|                 0|             0|            av|       91082783|        ,av91082783,|              ,av,| ,origin,phase-data,|             6|           null|          0.06|         217.0|                ml|     earthquake|M -0.8 - 85 km NN...|        Point|            -155.180333333333|                       58.2275|                      3.08|     1700812728000|https://earthquak...|USGS Earthquakes|            200|      1.14.0|           349|\n",
      "|Feature|  nc73827681|          0.57|10km NW of The Ge...|  1672617223560|     1673410751822|         null|https://earthquak...|https://earthquak...|           null|          null|          null|            null|         reviewed|                 0|             5|            nc|       73827681|        ,nc73827681,|              ,nc,|,nearby-cities,or...|            21|       0.007542|          0.02|          96.0|                md|     earthquake|M 0.6 - 10km NW o...|        Point|                    -122.8415|                       38.8445|                      2.06|     1700812728000|https://earthquak...|USGS Earthquakes|            200|      1.14.0|           349|\n",
      "|Feature|  pr71390293|          2.28|                null|  1672617148580|     1672618140720|         null|https://earthquak...|https://earthquak...|           null|          null|          null|            null|         reviewed|                 0|            80|            pr|       71390293|        ,pr71390293,|              ,pr,| ,origin,phase-data,|             5|        0.09231|          0.08|         242.0|                md|     earthquake|            M 2.3 - |        Point|                     -66.8565|              17.8848333333333|                     11.19|     1700812728000|https://earthquak...|USGS Earthquakes|            200|      1.14.0|           349|\n",
      "|Feature|  ci40152855|           1.2|3km NNW of Fontan...|  1672616861690|     1672940244883|         null|https://earthquak...|https://earthquak...|           null|          null|          null|            null|         reviewed|                 0|            22|            ci|       40152855|        ,ci40152855,|              ,ci,|,nearby-cities,or...|            36|        0.03413|          0.15|          47.0|                ml|     earthquake|M 1.2 - 3km NNW o...|        Point|                 -117.4708333|                        34.121|                      6.91|     1700812728000|https://earthquak...|USGS Earthquakes|            200|      1.14.0|           349|\n",
      "|Feature|  tx2023abuv|           1.7|12 km NE of Smile...|  1672616392936|     1673988922609|         null|https://earthquak...|https://earthquak...|           null|          null|          null|            null|         reviewed|                 0|            44|            tx|       2023abuv|        ,tx2023abuv,|              ,tx,| ,origin,phase-data,|            14|   0.1280168854|           0.3|          72.0|                ml|     earthquake|M 1.7 - 12 km NE ...|        Point|                  -97.5368796|                   29.33441162|        2.9590250650000005|     1700812728000|https://earthquak...|USGS Earthquakes|            200|      1.14.0|           349|\n",
      "|Feature| ak02321fmqe|           1.9|110 km NNW of Yak...|  1672616048220|     1674495350801|         null|https://earthquak...|https://earthquak...|           null|          null|          null|            null|         reviewed|                 0|            56|            ak|      02321fmqe|       ,ak02321fmqe,|              ,ak,| ,origin,phase-data,|          null|           null|          0.75|          null|                ml|     earthquake|M 1.9 - 110 km NN...|        Point|                    -140.4536|                       60.4709|                      13.1|     1700812728000|https://earthquak...|USGS Earthquakes|            200|      1.14.0|           349|\n",
      "|Feature|  us7000j1hk|           4.3|        Sea of Japan|  1672615658422|     1678575091040|         null|https://earthquak...|https://earthquak...|           null|          null|          null|            null|         reviewed|                 0|           284|            us|       7000j1hk|        ,us7000j1hk,|              ,us,| ,origin,phase-data,|           108|          2.231|          0.73|          47.0|                mb|     earthquake|M 4.3 - Sea of Japan|        Point|                     135.2387|                        37.051|                   369.061|     1700812728000|https://earthquak...|USGS Earthquakes|            200|      1.14.0|           349|\n",
      "|Feature|  ci40152847|          1.02|16km N of Borrego...|  1672614624070|     1672939753510|         null|https://earthquak...|https://earthquak...|           null|          null|          null|            null|         reviewed|                 0|            16|            ci|       40152847|        ,ci40152847,|              ,ci,|,nearby-cities,or...|            30|        0.06999|          0.17|          64.0|                ml|     earthquake|M 1.0 - 16km N of...|        Point|                 -116.3816667|                        33.398|                       5.5|     1700812728000|https://earthquak...|USGS Earthquakes|            200|      1.14.0|           349|\n",
      "|Feature|  us7000j3y7|           4.0|270 km WSW of Tua...|  1672614609024|     1678575106040|         null|https://earthquak...|https://earthquak...|           null|          null|          null|            null|         reviewed|                 0|           246|            us|       7000j3y7|        ,us7000j3y7,|              ,us,| ,origin,phase-data,|            14|           2.03|          0.39|         141.0|                mb|     earthquake|M 4.0 - 270 km WS...|        Point|                     130.3662|                       -6.1642|                   110.639|     1700812728000|https://earthquak...|USGS Earthquakes|            200|      1.14.0|           349|\n",
      "|Feature|  us7000j3y8|           4.4|64 km SW of Rabau...|  1672614089036|     1678575106040|         null|https://earthquak...|https://earthquak...|           null|          null|          null|            null|         reviewed|                 0|           298|            us|       7000j3y8|        ,us7000j3y8,|              ,us,| ,origin,phase-data,|            21|          0.589|          0.67|          72.0|                mb|     earthquake|M 4.4 - 64 km SW ...|        Point|                     151.7111|                       -4.5724|                   151.332|     1700812728000|https://earthquak...|USGS Earthquakes|            200|      1.14.0|           349|\n",
      "|Feature|  ci40152839|          1.05|16km N of Borrego...|  1672614027350|     1672939355054|         null|https://earthquak...|https://earthquak...|           null|          null|          null|            null|         reviewed|                 0|            17|            ci|       40152839|        ,ci40152839,|              ,ci,|,nearby-cities,or...|            34|         0.0717|          0.22|          66.0|                ml|     earthquake|M 1.1 - 16km N of...|        Point|                     -116.382|                    33.4008333|                      4.64|     1700812728000|https://earthquak...|USGS Earthquakes|            200|      1.14.0|           349|\n",
      "|Feature|  ci40152831|          1.31|8km NNE of Valle ...|  1672613918250|     1672938182412|         null|https://earthquak...|https://earthquak...|           null|          null|          null|            null|         reviewed|                 0|            26|            ci|       40152831|        ,ci40152831,|              ,ci,|,nearby-cities,or...|            50|        0.06424|          0.16|          29.0|                ml|     earthquake|M 1.3 - 8km NNE o...|        Point|                 -116.8726667|                       33.8195|                     14.62|     1700812728000|https://earthquak...|USGS Earthquakes|            200|      1.14.0|           349|\n",
      "|Feature|  av91741336|          0.58|86 km NW of Karlu...|  1672613113450|     1674077196527|         null|https://earthquak...|https://earthquak...|           null|          null|          null|            null|         reviewed|                 0|             5|            av|       91741336|,av91741336,ak023...|           ,av,ak,| ,origin,phase-data,|            10|           null|          0.08|          63.0|                ml|     earthquake|M 0.6 - 86 km NW ...|        Point|            -155.356333333333|              58.1838333333333|                      2.05|     1700812728000|https://earthquak...|USGS Earthquakes|            200|      1.14.0|           349|\n",
      "|Feature|  av91741331|         -0.71|78 km NW of Ninil...|  1672613051930|     1672869924680|         null|https://earthquak...|https://earthquak...|           null|          null|          null|            null|         reviewed|                 0|             0|            av|       91741331|        ,av91741331,|              ,av,| ,origin,phase-data,|             5|           null|          0.31|         113.0|                ml|     earthquake|M -0.7 - 78 km NW...|        Point|            -152.762833333333|              60.4958333333333|                     -2.99|     1700812728000|https://earthquak...|USGS Earthquakes|            200|      1.14.0|           349|\n",
      "|Feature|  av91082798|         -0.97|75 km NW of Ninil...|  1672612866340|     1672861288660|         null|https://earthquak...|https://earthquak...|           null|          null|          null|            null|         reviewed|                 0|             0|            av|       91082798|        ,av91082798,|              ,av,| ,origin,phase-data,|             4|           null|          0.17|         150.0|                ml|     earthquake|M -1.0 - 75 km NW...|        Point|            -152.727833333333|                        60.476|                      0.61|     1700812728000|https://earthquak...|USGS Earthquakes|            200|      1.14.0|           349|\n",
      "|Feature|  nc73827671|          0.08|3km SW of Anderso...|  1672612541510|     1673001013492|         null|https://earthquak...|https://earthquak...|           null|          null|          null|            null|         reviewed|                 0|             0|            nc|       73827671|        ,nc73827671,|              ,nc,|,nearby-cities,or...|            10|       0.006192|          0.04|          85.0|                md|     earthquake|M 0.1 - 3km SW of...|        Point|                 -122.7176667|                        38.759|                      1.82|     1700812728000|https://earthquak...|USGS Earthquakes|            200|      1.14.0|           349|\n",
      "|Feature|pr2023001003|          3.81|22 km E of Boca d...|  1672612276570|     1678575091040|         null|https://earthquak...|https://earthquak...|           null|          null|          null|            null|         reviewed|                 0|           223|            pr|     2023001003|,us7000j1hh,pr202...|           ,us,pr,| ,origin,phase-data,|            22|         0.1502|          0.03|         242.0|                md|     earthquake|M 3.8 - 22 km E o...|        Point|                     -68.3946|                       18.3643|                      78.0|     1700812728000|https://earthquak...|USGS Earthquakes|            200|      1.14.0|           349|\n",
      "|Feature|  nc73827666|          0.35|14km SE of Mammot...|  1672612213740|     1672682532382|         null|https://earthquak...|https://earthquak...|           null|          null|          null|            null|         reviewed|                 0|             2|            nc|       73827666|        ,nc73827666,|              ,nc,|,nearby-cities,or...|             8|        0.05192|          0.01|         221.0|                md|     earthquake|M 0.4 - 14km SE o...|        Point|                 -118.8708333|                         37.55|                      5.13|     1700812728000|https://earthquak...|USGS Earthquakes|            200|      1.14.0|           349|\n",
      "+-------+------------+--------------+--------------------+---------------+------------------+-------------+--------------------+--------------------+---------------+--------------+--------------+----------------+-----------------+------------------+--------------+--------------+---------------+--------------------+------------------+--------------------+--------------+---------------+--------------+--------------+------------------+---------------+--------------------+-------------+-----------------------------+------------------------------+--------------------------+------------------+--------------------+----------------+---------------+------------+--------------+\n",
      "only showing top 20 rows\n",
      "\n"
     ]
    }
   ],
   "source": [
    "df.show()"
   ]
  },
  {
   "cell_type": "code",
   "execution_count": 32,
   "metadata": {},
   "outputs": [
    {
     "name": "stdout",
     "output_type": "stream",
     "text": [
      "root\n",
      " |-- type: string (nullable = true)\n",
      " |-- id: string (nullable = true)\n",
      " |-- properties_mag: double (nullable = true)\n",
      " |-- properties_place: string (nullable = true)\n",
      " |-- properties_time: long (nullable = true)\n",
      " |-- properties_updated: long (nullable = true)\n",
      " |-- properties_tz: integer (nullable = true)\n",
      " |-- properties_url: string (nullable = true)\n",
      " |-- properties_detail: string (nullable = true)\n",
      " |-- properties_felt: long (nullable = true)\n",
      " |-- properties_cdi: double (nullable = true)\n",
      " |-- properties_mmi: double (nullable = true)\n",
      " |-- properties_alert: string (nullable = true)\n",
      " |-- properties_status: string (nullable = true)\n",
      " |-- properties_tsunami: long (nullable = true)\n",
      " |-- properties_sig: long (nullable = true)\n",
      " |-- properties_net: string (nullable = true)\n",
      " |-- properties_code: string (nullable = true)\n",
      " |-- properties_ids: string (nullable = true)\n",
      " |-- properties_sources: string (nullable = true)\n",
      " |-- properties_types: string (nullable = true)\n",
      " |-- properties_nst: long (nullable = true)\n",
      " |-- properties_dmin: double (nullable = true)\n",
      " |-- properties_rms: double (nullable = true)\n",
      " |-- properties_gap: double (nullable = true)\n",
      " |-- properties_magType: string (nullable = true)\n",
      " |-- properties_type: string (nullable = true)\n",
      " |-- properties_title: string (nullable = true)\n",
      " |-- geometry_type: string (nullable = true)\n",
      " |-- geometry_coordinates_latitude: double (nullable = true)\n",
      " |-- geometry_coordinates_longitude: double (nullable = true)\n",
      " |-- geometry_coordinates_depth: double (nullable = true)\n",
      " |-- metadata.generated: long (nullable = true)\n",
      " |-- metadata.url: string (nullable = true)\n",
      " |-- metadata.title: string (nullable = true)\n",
      " |-- metadata.status: long (nullable = true)\n",
      " |-- metadata.api: string (nullable = true)\n",
      " |-- metadata.count: long (nullable = true)\n",
      "\n"
     ]
    }
   ],
   "source": [
    "df.printSchema()"
   ]
  },
  {
   "cell_type": "code",
   "execution_count": 35,
   "metadata": {},
   "outputs": [
    {
     "name": "stdout",
     "output_type": "stream",
     "text": [
      "+---------------+\n",
      "|properties_time|\n",
      "+---------------+\n",
      "|  1672617569195|\n",
      "|  1672617413930|\n",
      "|  1672617277550|\n",
      "|  1672617223560|\n",
      "|  1672617148580|\n",
      "|  1672616861690|\n",
      "|  1672616392936|\n",
      "|  1672616048220|\n",
      "|  1672615658422|\n",
      "|  1672614624070|\n",
      "|  1672614609024|\n",
      "|  1672614089036|\n",
      "|  1672614027350|\n",
      "|  1672613918250|\n",
      "|  1672613113450|\n",
      "|  1672613051930|\n",
      "|  1672612866340|\n",
      "|  1672612541510|\n",
      "|  1672612276570|\n",
      "|  1672612213740|\n",
      "+---------------+\n",
      "only showing top 20 rows\n",
      "\n"
     ]
    }
   ],
   "source": [
    "df.select(\"properties_time\").show()"
   ]
  },
  {
   "cell_type": "code",
   "execution_count": 36,
   "metadata": {},
   "outputs": [
    {
     "name": "stdout",
     "output_type": "stream",
     "text": [
      "+-------------+-------------+\n",
      "|     min_time|     max_time|\n",
      "+-------------+-------------+\n",
      "|1672531574840|1672617569195|\n",
      "+-------------+-------------+\n",
      "\n"
     ]
    }
   ],
   "source": [
    "df.agg(F.min(\"properties_time\").alias(\"min_time\"), F.max(\"properties_time\").alias(\"max_time\")).show()"
   ]
  },
  {
   "cell_type": "code",
   "execution_count": 37,
   "metadata": {},
   "outputs": [
    {
     "name": "stderr",
     "output_type": "stream",
     "text": [
      "/opt/spark-3.2.4-bin-hadoop3.2/python/pyspark/sql/column.py:322: FutureWarning: A column as 'key' in getItem is deprecated as of Spark 3.0, and will not be supported in the future release. Use `column[key]` or `column.key` syntax instead.\n",
      "  warnings.warn(\n"
     ]
    },
    {
     "name": "stdout",
     "output_type": "stream",
     "text": [
      "+-------------------+\n",
      "|             region|\n",
      "+-------------------+\n",
      "|          Indonesia|\n",
      "|        Puerto Rico|\n",
      "|             Alaska|\n",
      "|                 CA|\n",
      "|               null|\n",
      "|                 CA|\n",
      "|              Texas|\n",
      "|             Alaska|\n",
      "|       Sea of Japan|\n",
      "|                 CA|\n",
      "|          Indonesia|\n",
      "|   Papua New Guinea|\n",
      "|                 CA|\n",
      "|                 CA|\n",
      "|             Alaska|\n",
      "|             Alaska|\n",
      "|             Alaska|\n",
      "|                 CA|\n",
      "| Dominican Republic|\n",
      "|                 CA|\n",
      "+-------------------+\n",
      "only showing top 20 rows\n",
      "\n"
     ]
    }
   ],
   "source": [
    "from pyspark.sql.functions import split, size, when, col\n",
    "\n",
    "# Split the properties_place column\n",
    "split_col = split(col(\"properties_place\"), \",\")\n",
    "\n",
    "# Get the last item of the split column\n",
    "last_item = split_col.getItem(size(split_col)-1)\n",
    "\n",
    "# Create the new country column\n",
    "df.withColumn(\"region\", when(col(\"properties_place\").isNotNull(), last_item).otherwise(None)).select(\"region\").show()"
   ]
  },
  {
   "cell_type": "code",
   "execution_count": 38,
   "metadata": {},
   "outputs": [
    {
     "name": "stderr",
     "output_type": "stream",
     "text": [
      "/opt/spark-3.2.4-bin-hadoop3.2/python/pyspark/sql/column.py:322: FutureWarning: A column as 'key' in getItem is deprecated as of Spark 3.0, and will not be supported in the future release. Use `column[key]` or `column.key` syntax instead.\n",
      "  warnings.warn(\n"
     ]
    }
   ],
   "source": [
    "selected_columns = [\n",
    " 'id',\n",
    " 'properties_mag',\n",
    " 'properties_place',\n",
    " 'properties_time',\n",
    " 'properties_updated',\n",
    " 'properties_tz',\n",
    " 'properties_url',\n",
    " 'properties_detail',\n",
    " 'properties_felt',\n",
    " 'properties_cdi',\n",
    " 'properties_mmi',\n",
    " 'properties_alert',\n",
    " 'properties_status',\n",
    " 'properties_tsunami',\n",
    " 'properties_sig',\n",
    " 'properties_net',\n",
    " 'properties_code',\n",
    " 'properties_ids',\n",
    " 'properties_sources',\n",
    " 'properties_types',\n",
    " 'properties_nst',\n",
    " 'properties_dmin',\n",
    " 'properties_rms',\n",
    " 'properties_gap',\n",
    " 'properties_magType',\n",
    " 'properties_type',\n",
    " 'properties_title',\n",
    " 'geometry_coordinates_latitude',\n",
    " 'geometry_coordinates_longitude',\n",
    " 'geometry_coordinates_depth',\n",
    " 'region']\n",
    "\n",
    "# Split the properties_place column\n",
    "split_col = split(col(\"properties_place\"), \",\")\n",
    "\n",
    "# Get the last item of the split column\n",
    "last_item = split_col.getItem(size(split_col)-1)\n",
    "\n",
    "df = df \\\n",
    ".withColumn(\"properties_time\", F.to_timestamp(col(\"properties_time\")/1000)) \\\n",
    ".withColumn(\"properties_updated\", F.to_timestamp(col(\"properties_updated\")/1000)) \\\n",
    ".withColumn(\"region\", when(col(\"properties_place\").isNotNull(), last_item).otherwise(None)) \\\n",
    ".select(selected_columns)"
   ]
  },
  {
   "cell_type": "code",
   "execution_count": 42,
   "metadata": {},
   "outputs": [
    {
     "data": {
      "text/plain": [
       "{'id': 'id',\n",
       " 'properties_mag': 'mag',\n",
       " 'properties_place': 'place',\n",
       " 'properties_time': 'time',\n",
       " 'properties_updated': 'updated',\n",
       " 'properties_tz': 'tz',\n",
       " 'properties_url': 'url',\n",
       " 'properties_detail': 'detail',\n",
       " 'properties_felt': 'felt',\n",
       " 'properties_cdi': 'cdi',\n",
       " 'properties_mmi': 'mmi',\n",
       " 'properties_alert': 'alert',\n",
       " 'properties_status': 'status',\n",
       " 'properties_tsunami': 'tsunami',\n",
       " 'properties_sig': 'sig',\n",
       " 'properties_net': 'net',\n",
       " 'properties_code': 'code',\n",
       " 'properties_ids': 'ids',\n",
       " 'properties_sources': 'sources',\n",
       " 'properties_types': 'types',\n",
       " 'properties_nst': 'nst',\n",
       " 'properties_dmin': 'dmin',\n",
       " 'properties_rms': 'rms',\n",
       " 'properties_gap': 'gap',\n",
       " 'properties_magType': 'magType',\n",
       " 'properties_type': 'type',\n",
       " 'properties_title': 'title',\n",
       " 'geometry_coordinates_latitude': 'geometry_coordinates_latitude',\n",
       " 'geometry_coordinates_longitude': 'geometry_coordinates_longitude',\n",
       " 'geometry_coordinates_depth': 'geometry_coordinates_depth',\n",
       " 'region': 'region'}"
      ]
     },
     "execution_count": 42,
     "metadata": {},
     "output_type": "execute_result"
    }
   ],
   "source": [
    "new_columns = {i: i.replace(\"properties_\", \"\") for i in df.columns}\n",
    "\n",
    "new_columns"
   ]
  },
  {
   "cell_type": "code",
   "execution_count": 43,
   "metadata": {},
   "outputs": [],
   "source": [
    "from functools import reduce\n",
    "\n",
    "df = reduce(lambda df, idx: df.withColumnRenamed(list(new_columns.keys())[idx], list(new_columns.values())[idx]), range(len(new_columns)), df)"
   ]
  },
  {
   "cell_type": "code",
   "execution_count": 44,
   "metadata": {},
   "outputs": [
    {
     "name": "stdout",
     "output_type": "stream",
     "text": [
      "+------------+-----+--------------------+--------------------+--------------------+----+--------------------+--------------------+----+----+----+-----+--------+-------+---+---+----------+--------------------+-------+--------------------+----+------------+----+-----+-------+----------+--------------------+-----------------------------+------------------------------+--------------------------+-------------------+\n",
      "|          id|  mag|               place|                time|             updated|  tz|                 url|              detail|felt| cdi| mmi|alert|  status|tsunami|sig|net|      code|                 ids|sources|               types| nst|        dmin| rms|  gap|magType|      type|               title|geometry_coordinates_latitude|geometry_coordinates_longitude|geometry_coordinates_depth|             region|\n",
      "+------------+-----+--------------------+--------------------+--------------------+----+--------------------+--------------------+----+----+----+-----+--------+-------+---+---+----------+--------------------+-------+--------------------+----+------------+----+-----+-------+----------+--------------------+-----------------------------+------------------------------+--------------------------+-------------------+\n",
      "|  us7000j3yb|  4.2|5 km NNE of Jayap...|2023-01-01 23:59:...|2023-03-11 22:51:...|null|https://earthquak...|https://earthquak...|null|null|null| null|reviewed|      0|271| us|  7000j3yb|        ,us7000j3yb,|   ,us,| ,origin,phase-data,|  19|      16.495|0.45| 99.0|     mb|earthquake|M 4.2 - 5 km NNE ...|                     140.7385|                        -2.493|                      10.0|          Indonesia|\n",
      "|pr2023001004| 3.62|103 km N of Suáre...|2023-01-01 23:56:...|2023-01-02 00:32:...|null|https://earthquak...|https://earthquak...|null|null|null| null|reviewed|      0|202| pr|2023001004|      ,pr2023001004,|   ,pr,| ,origin,phase-data,|  14|      1.1104|0.44|270.0|     md|earthquake|M 3.6 - 103 km N ...|                     -65.7256|                       19.3601|                      34.0|        Puerto Rico|\n",
      "|  av91082783|-0.76|85 km NNW of Karl...|2023-01-01 23:54:...|2023-01-04 19:26:...|null|https://earthquak...|https://earthquak...|null|null|null| null|reviewed|      0|  0| av|  91082783|        ,av91082783,|   ,av,| ,origin,phase-data,|   6|        null|0.06|217.0|     ml|earthquake|M -0.8 - 85 km NN...|            -155.180333333333|                       58.2275|                      3.08|             Alaska|\n",
      "|  nc73827681| 0.57|10km NW of The Ge...|2023-01-01 23:53:...|2023-01-11 04:19:...|null|https://earthquak...|https://earthquak...|null|null|null| null|reviewed|      0|  5| nc|  73827681|        ,nc73827681,|   ,nc,|,nearby-cities,or...|  21|    0.007542|0.02| 96.0|     md|earthquake|M 0.6 - 10km NW o...|                    -122.8415|                       38.8445|                      2.06|                 CA|\n",
      "|  pr71390293| 2.28|                null|2023-01-01 23:52:...|2023-01-02 00:09:...|null|https://earthquak...|https://earthquak...|null|null|null| null|reviewed|      0| 80| pr|  71390293|        ,pr71390293,|   ,pr,| ,origin,phase-data,|   5|     0.09231|0.08|242.0|     md|earthquake|            M 2.3 - |                     -66.8565|              17.8848333333333|                     11.19|               null|\n",
      "|  ci40152855|  1.2|3km NNW of Fontan...|2023-01-01 23:47:...|2023-01-05 17:37:...|null|https://earthquak...|https://earthquak...|null|null|null| null|reviewed|      0| 22| ci|  40152855|        ,ci40152855,|   ,ci,|,nearby-cities,or...|  36|     0.03413|0.15| 47.0|     ml|earthquake|M 1.2 - 3km NNW o...|                 -117.4708333|                        34.121|                      6.91|                 CA|\n",
      "|  tx2023abuv|  1.7|12 km NE of Smile...|2023-01-01 23:39:...|2023-01-17 20:55:...|null|https://earthquak...|https://earthquak...|null|null|null| null|reviewed|      0| 44| tx|  2023abuv|        ,tx2023abuv,|   ,tx,| ,origin,phase-data,|  14|0.1280168854| 0.3| 72.0|     ml|earthquake|M 1.7 - 12 km NE ...|                  -97.5368796|                   29.33441162|        2.9590250650000005|              Texas|\n",
      "| ak02321fmqe|  1.9|110 km NNW of Yak...|2023-01-01 23:34:...|2023-01-23 17:35:...|null|https://earthquak...|https://earthquak...|null|null|null| null|reviewed|      0| 56| ak| 02321fmqe|       ,ak02321fmqe,|   ,ak,| ,origin,phase-data,|null|        null|0.75| null|     ml|earthquake|M 1.9 - 110 km NN...|                    -140.4536|                       60.4709|                      13.1|             Alaska|\n",
      "|  us7000j1hk|  4.3|        Sea of Japan|2023-01-01 23:27:...|2023-03-11 22:51:...|null|https://earthquak...|https://earthquak...|null|null|null| null|reviewed|      0|284| us|  7000j1hk|        ,us7000j1hk,|   ,us,| ,origin,phase-data,| 108|       2.231|0.73| 47.0|     mb|earthquake|M 4.3 - Sea of Japan|                     135.2387|                        37.051|                   369.061|       Sea of Japan|\n",
      "|  ci40152847| 1.02|16km N of Borrego...|2023-01-01 23:10:...|2023-01-05 17:29:...|null|https://earthquak...|https://earthquak...|null|null|null| null|reviewed|      0| 16| ci|  40152847|        ,ci40152847,|   ,ci,|,nearby-cities,or...|  30|     0.06999|0.17| 64.0|     ml|earthquake|M 1.0 - 16km N of...|                 -116.3816667|                        33.398|                       5.5|                 CA|\n",
      "|  us7000j3y7|  4.0|270 km WSW of Tua...|2023-01-01 23:10:...|2023-03-11 22:51:...|null|https://earthquak...|https://earthquak...|null|null|null| null|reviewed|      0|246| us|  7000j3y7|        ,us7000j3y7,|   ,us,| ,origin,phase-data,|  14|        2.03|0.39|141.0|     mb|earthquake|M 4.0 - 270 km WS...|                     130.3662|                       -6.1642|                   110.639|          Indonesia|\n",
      "|  us7000j3y8|  4.4|64 km SW of Rabau...|2023-01-01 23:01:...|2023-03-11 22:51:...|null|https://earthquak...|https://earthquak...|null|null|null| null|reviewed|      0|298| us|  7000j3y8|        ,us7000j3y8,|   ,us,| ,origin,phase-data,|  21|       0.589|0.67| 72.0|     mb|earthquake|M 4.4 - 64 km SW ...|                     151.7111|                       -4.5724|                   151.332|   Papua New Guinea|\n",
      "|  ci40152839| 1.05|16km N of Borrego...|2023-01-01 23:00:...|2023-01-05 17:22:...|null|https://earthquak...|https://earthquak...|null|null|null| null|reviewed|      0| 17| ci|  40152839|        ,ci40152839,|   ,ci,|,nearby-cities,or...|  34|      0.0717|0.22| 66.0|     ml|earthquake|M 1.1 - 16km N of...|                     -116.382|                    33.4008333|                      4.64|                 CA|\n",
      "|  ci40152831| 1.31|8km NNE of Valle ...|2023-01-01 22:58:...|2023-01-05 17:03:...|null|https://earthquak...|https://earthquak...|null|null|null| null|reviewed|      0| 26| ci|  40152831|        ,ci40152831,|   ,ci,|,nearby-cities,or...|  50|     0.06424|0.16| 29.0|     ml|earthquake|M 1.3 - 8km NNE o...|                 -116.8726667|                       33.8195|                     14.62|                 CA|\n",
      "|  av91741336| 0.58|86 km NW of Karlu...|2023-01-01 22:45:...|2023-01-18 21:26:...|null|https://earthquak...|https://earthquak...|null|null|null| null|reviewed|      0|  5| av|  91741336|,av91741336,ak023...|,av,ak,| ,origin,phase-data,|  10|        null|0.08| 63.0|     ml|earthquake|M 0.6 - 86 km NW ...|            -155.356333333333|              58.1838333333333|                      2.05|             Alaska|\n",
      "|  av91741331|-0.71|78 km NW of Ninil...|2023-01-01 22:44:...|2023-01-04 22:05:...|null|https://earthquak...|https://earthquak...|null|null|null| null|reviewed|      0|  0| av|  91741331|        ,av91741331,|   ,av,| ,origin,phase-data,|   5|        null|0.31|113.0|     ml|earthquake|M -0.7 - 78 km NW...|            -152.762833333333|              60.4958333333333|                     -2.99|             Alaska|\n",
      "|  av91082798|-0.97|75 km NW of Ninil...|2023-01-01 22:41:...|2023-01-04 19:41:...|null|https://earthquak...|https://earthquak...|null|null|null| null|reviewed|      0|  0| av|  91082798|        ,av91082798,|   ,av,| ,origin,phase-data,|   4|        null|0.17|150.0|     ml|earthquake|M -1.0 - 75 km NW...|            -152.727833333333|                        60.476|                      0.61|             Alaska|\n",
      "|  nc73827671| 0.08|3km SW of Anderso...|2023-01-01 22:35:...|2023-01-06 10:30:...|null|https://earthquak...|https://earthquak...|null|null|null| null|reviewed|      0|  0| nc|  73827671|        ,nc73827671,|   ,nc,|,nearby-cities,or...|  10|    0.006192|0.04| 85.0|     md|earthquake|M 0.1 - 3km SW of...|                 -122.7176667|                        38.759|                      1.82|                 CA|\n",
      "|pr2023001003| 3.81|22 km E of Boca d...|2023-01-01 22:31:...|2023-03-11 22:51:...|null|https://earthquak...|https://earthquak...|null|null|null| null|reviewed|      0|223| pr|2023001003|,us7000j1hh,pr202...|,us,pr,| ,origin,phase-data,|  22|      0.1502|0.03|242.0|     md|earthquake|M 3.8 - 22 km E o...|                     -68.3946|                       18.3643|                      78.0| Dominican Republic|\n",
      "|  nc73827666| 0.35|14km SE of Mammot...|2023-01-01 22:30:...|2023-01-02 18:02:...|null|https://earthquak...|https://earthquak...|null|null|null| null|reviewed|      0|  2| nc|  73827666|        ,nc73827666,|   ,nc,|,nearby-cities,or...|   8|     0.05192|0.01|221.0|     md|earthquake|M 0.4 - 14km SE o...|                 -118.8708333|                         37.55|                      5.13|                 CA|\n",
      "+------------+-----+--------------------+--------------------+--------------------+----+--------------------+--------------------+----+----+----+-----+--------+-------+---+---+----------+--------------------+-------+--------------------+----+------------+----+-----+-------+----------+--------------------+-----------------------------+------------------------------+--------------------------+-------------------+\n",
      "only showing top 20 rows\n",
      "\n"
     ]
    }
   ],
   "source": [
    "df.show()"
   ]
  },
  {
   "cell_type": "code",
   "execution_count": 45,
   "metadata": {},
   "outputs": [
    {
     "data": {
      "text/plain": [
       "['id',\n",
       " 'mag',\n",
       " 'place',\n",
       " 'time',\n",
       " 'updated',\n",
       " 'tz',\n",
       " 'url',\n",
       " 'detail',\n",
       " 'felt',\n",
       " 'cdi',\n",
       " 'mmi',\n",
       " 'alert',\n",
       " 'status',\n",
       " 'tsunami',\n",
       " 'sig',\n",
       " 'net',\n",
       " 'code',\n",
       " 'ids',\n",
       " 'sources',\n",
       " 'types',\n",
       " 'nst',\n",
       " 'dmin',\n",
       " 'rms',\n",
       " 'gap',\n",
       " 'magType',\n",
       " 'type',\n",
       " 'title',\n",
       " 'geometry_coordinates_latitude',\n",
       " 'geometry_coordinates_longitude',\n",
       " 'geometry_coordinates_depth',\n",
       " 'region']"
      ]
     },
     "execution_count": 45,
     "metadata": {},
     "output_type": "execute_result"
    }
   ],
   "source": [
    "df.columns"
   ]
  },
  {
   "cell_type": "code",
   "execution_count": 46,
   "metadata": {},
   "outputs": [
    {
     "name": "stderr",
     "output_type": "stream",
     "text": [
      "                                                                                \r"
     ]
    }
   ],
   "source": [
    "df.write.mode(\"append\").parquet(\"../data/transformed/2023/01\")"
   ]
  },
  {
   "cell_type": "code",
   "execution_count": 47,
   "metadata": {},
   "outputs": [],
   "source": [
    "df_2 = spark.read.option(\"inferSchema\", \"true\").parquet(\"../data/raw/parquet/data_2023-01-02.parquet\")"
   ]
  },
  {
   "cell_type": "code",
   "execution_count": 48,
   "metadata": {},
   "outputs": [],
   "source": [
    "df_2 = df_2 \\\n",
    ".withColumn(\"properties_time\", F.to_timestamp(col(\"properties_time\")/1000)) \\\n",
    ".withColumn(\"properties_updated\", F.to_timestamp(col(\"properties_updated\")/1000)) \\\n",
    ".withColumn(\"region\", when(col(\"properties_place\").isNotNull(), last_item).otherwise(None)) \\\n",
    ".select(selected_columns)"
   ]
  },
  {
   "cell_type": "code",
   "execution_count": 49,
   "metadata": {},
   "outputs": [],
   "source": [
    "df_2.write.mode(\"append\").parquet(\"../data/transformed/2023/01\")"
   ]
  },
  {
   "cell_type": "code",
   "execution_count": 50,
   "metadata": {},
   "outputs": [],
   "source": [
    "df_2023_01 = spark.read.option(\"inferSchema\", \"true\").parquet(\"../data/transformed/2023/01/\")"
   ]
  },
  {
   "cell_type": "code",
   "execution_count": 51,
   "metadata": {},
   "outputs": [
    {
     "name": "stdout",
     "output_type": "stream",
     "text": [
      "+--------------------+--------------------+\n",
      "|min(properties_time)|max(properties_time)|\n",
      "+--------------------+--------------------+\n",
      "|2023-01-01 00:06:...|2023-01-02 23:55:...|\n",
      "+--------------------+--------------------+\n",
      "\n"
     ]
    }
   ],
   "source": [
    "df_2023_01.agg(min(\"properties_time\"), max(\"properties_time\")).show()"
   ]
  }
 ],
 "metadata": {
  "kernelspec": {
   "display_name": "Python 3 (ipykernel)",
   "language": "python",
   "name": "python3"
  },
  "language_info": {
   "codemirror_mode": {
    "name": "ipython",
    "version": 3
   },
   "file_extension": ".py",
   "mimetype": "text/x-python",
   "name": "python",
   "nbconvert_exporter": "python",
   "pygments_lexer": "ipython3",
   "version": "3.8.18"
  }
 },
 "nbformat": 4,
 "nbformat_minor": 5
}
