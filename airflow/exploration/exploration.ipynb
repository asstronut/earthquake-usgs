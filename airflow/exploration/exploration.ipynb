{
 "cells": [
  {
   "cell_type": "code",
   "execution_count": 1,
   "id": "f43b9489-0282-4b49-9ec6-d7addc263a54",
   "metadata": {},
   "outputs": [],
   "source": [
    "import pandas as pd\n",
    "import requests as r\n",
    "import json"
   ]
  },
  {
   "cell_type": "markdown",
   "id": "68a004c5-a5b6-4d66-ae67-71ddf19bd9e8",
   "metadata": {},
   "source": [
    "# Data Ingestion"
   ]
  },
  {
   "cell_type": "markdown",
   "id": "8071097f-1a3b-4f59-b846-72ae8b89fcb5",
   "metadata": {},
   "source": [
    "Steps consists of:\n",
    "- Fetch json data from API\n",
    "- Save json data to local\n",
    "- Transform from json to parquet\n",
    "- Save parquet data to local\n",
    "- Upload json and parquet data to data lake"
   ]
  },
  {
   "cell_type": "markdown",
   "id": "9d562664-9e30-4205-9439-16cc1dc08f62",
   "metadata": {
    "jp-MarkdownHeadingCollapsed": true
   },
   "source": [
    "## Fetch Data"
   ]
  },
  {
   "cell_type": "markdown",
   "id": "96ab6cd9-ec8b-46e0-b390-23207d10bd8b",
   "metadata": {},
   "source": [
    "| Column name | Description | Data type |\n",
    "| --- | --- | --- |\n",
    "| time | The time of the earthquake. | Datetime |\n",
    "| latitude | The latitude of the earthquake. | Float |\n",
    "| longitude | The longitude of the earthquake. | Float |\n",
    "| depth | The depth of the earthquake. | Float |\n",
    "| mag | The magnitude of the earthquake. | Float |\n",
    "| magType | The type of magnitude measurement used. | String |\n",
    "| nst | The number of seismic stations used to calculate the magnitude. | Integer |\n",
    "| gap | The maximum angular distance between azimuthal gaps. | Float |\n",
    "| dmin | The distance to the nearest station. | Float |\n",
    "| rms | The root-mean-square travel time residual. | Float |\n",
    "| net | The network detected. | String |\n",
    "| id |  |  |\n",
    "| updated | The time the earthquake was last updated. | Datetime |\n",
    "| place | The location of the earthquake. | String |\n",
    "| type | | |\n",
    "| horizontalError | The horizontal error of the earthquake. | Float |\n",
    "| depthError | The depth error of the earthquake. | Float |\n",
    "| magError | The magnitude error of the earthquake. | Float |\n",
    "| magNst | The number of seismic stations used to calculate the magnitude error. | Integer |\n",
    "| status | The status of the earthquake. | String |\n",
    "| locationSource | The source of the location of the earthquake. | String |\n",
    "| magSource | | |arthquake. (String)"
   ]
  },
  {
   "cell_type": "code",
   "execution_count": 2,
   "id": "5befecc2-17da-4c03-92ad-b9b11c631590",
   "metadata": {},
   "outputs": [],
   "source": [
    "format = \"geojson\"\n",
    "starttime = \"2023-01-01\"\n",
    "endtime = \"2023-01-02\"\n",
    "\n",
    "response = r.get(f\"https://earthquake.usgs.gov/fdsnws/event/1/query?format={format}&starttime={starttime}&endtime={endtime}\")"
   ]
  },
  {
   "cell_type": "code",
   "execution_count": 3,
   "id": "3a785a60-83fd-4ea0-8b4f-2639cbfa9f69",
   "metadata": {},
   "outputs": [],
   "source": [
    "json_data = response.json()"
   ]
  },
  {
   "cell_type": "markdown",
   "id": "12fd4767-162a-4fea-b72b-eabbc6f22d3e",
   "metadata": {},
   "source": [
    "I want to know which data range retrieved from params `starttime=2023-01-01` & `endtime=2023-01-02`"
   ]
  },
  {
   "cell_type": "code",
   "execution_count": 4,
   "id": "68741093-6980-4f8f-aeee-4407d9988825",
   "metadata": {},
   "outputs": [],
   "source": [
    "import datetime"
   ]
  },
  {
   "cell_type": "code",
   "execution_count": 5,
   "id": "f26c2538-317e-430e-a805-d004eb4a1b7f",
   "metadata": {},
   "outputs": [
    {
     "name": "stdout",
     "output_type": "stream",
     "text": [
      "2023-01-01 23:59:29.195000 2023-01-01 00:06:14.840000\n"
     ]
    }
   ],
   "source": [
    "time_ls = []\n",
    "for i in range(json_data['metadata']['count']):\n",
    "    time_eq = json_data['features'][i]['properties']['time']\n",
    "    time_ls.append(datetime.datetime.fromtimestamp(time_eq/1000.0))\n",
    "\n",
    "print(max(time_ls), min(time_ls))"
   ]
  },
  {
   "cell_type": "markdown",
   "id": "4526ca51-b48d-4758-ab70-abccc7ad167b",
   "metadata": {},
   "source": [
    "The data retrieved is exclusive to `starttime` (2023-01-01) range (not include `endtime` (2023-01-02))"
   ]
  },
  {
   "cell_type": "markdown",
   "id": "36a6b772-5262-4327-9f4e-1723a436ead3",
   "metadata": {
    "jp-MarkdownHeadingCollapsed": true
   },
   "source": [
    "## Save json data to local"
   ]
  },
  {
   "cell_type": "code",
   "execution_count": 6,
   "id": "31190eac-237a-4e84-ac3b-b5730b30934b",
   "metadata": {},
   "outputs": [],
   "source": [
    "with open(f\"data/raw/json/data_{starttime}.json\", \"w\") as f:\n",
    "    json.dump(json_data, f)"
   ]
  },
  {
   "cell_type": "markdown",
   "id": "b3280b8e-41fb-47ba-be34-cf8bb1ea9fd4",
   "metadata": {},
   "source": [
    "## Convert from json to parquet"
   ]
  },
  {
   "cell_type": "code",
   "execution_count": 7,
   "id": "3366d237-26f5-4885-8a05-291e9a41fcc5",
   "metadata": {},
   "outputs": [
    {
     "data": {
      "text/plain": [
       "dict_keys(['type', 'metadata', 'features', 'bbox'])"
      ]
     },
     "execution_count": 7,
     "metadata": {},
     "output_type": "execute_result"
    }
   ],
   "source": [
    "json_data.keys()"
   ]
  },
  {
   "cell_type": "code",
   "execution_count": 8,
   "id": "229b74aa-7aa5-44b4-8ff3-74e9fe520c0e",
   "metadata": {},
   "outputs": [
    {
     "data": {
      "text/plain": [
       "'FeatureCollection'"
      ]
     },
     "execution_count": 8,
     "metadata": {},
     "output_type": "execute_result"
    }
   ],
   "source": [
    "json_data['type']"
   ]
  },
  {
   "cell_type": "code",
   "execution_count": 9,
   "id": "d8f8ccf9-2f21-45b7-9543-6dfe302279d2",
   "metadata": {},
   "outputs": [
    {
     "data": {
      "text/plain": [
       "dict_keys(['generated', 'url', 'title', 'status', 'api', 'count'])"
      ]
     },
     "execution_count": 9,
     "metadata": {},
     "output_type": "execute_result"
    }
   ],
   "source": [
    "json_data['metadata'].keys()"
   ]
  },
  {
   "cell_type": "code",
   "execution_count": 10,
   "id": "9ea8c792-c5b4-4d6c-ae45-daaf644c6d87",
   "metadata": {},
   "outputs": [
    {
     "data": {
      "text/plain": [
       "{'generated': 1700308166000,\n",
       " 'url': 'https://earthquake.usgs.gov/fdsnws/event/1/query?format=geojson&starttime=2023-01-01&endtime=2023-01-02',\n",
       " 'title': 'USGS Earthquakes',\n",
       " 'status': 200,\n",
       " 'api': '1.14.0',\n",
       " 'count': 349}"
      ]
     },
     "execution_count": 10,
     "metadata": {},
     "output_type": "execute_result"
    }
   ],
   "source": [
    "# metadata of the files retirieved\n",
    "json_data['metadata']"
   ]
  },
  {
   "cell_type": "code",
   "execution_count": 11,
   "id": "793440c2-6856-42f6-bab1-1a3b7d8aee84",
   "metadata": {},
   "outputs": [
    {
     "data": {
      "text/plain": [
       "[-178.81666666667, -60.8195, -3.05, 179.599, 67.2198, 595.724]"
      ]
     },
     "execution_count": 11,
     "metadata": {},
     "output_type": "execute_result"
    }
   ],
   "source": [
    "# min long, min lat, min depth, max long, max lat, max depth\n",
    "json_data['bbox']"
   ]
  },
  {
   "cell_type": "code",
   "execution_count": 12,
   "id": "c934aea1-1933-4391-a4be-d752fcbc8f39",
   "metadata": {},
   "outputs": [
    {
     "data": {
      "text/plain": [
       "dict_keys(['type', 'properties', 'geometry', 'id'])"
      ]
     },
     "execution_count": 12,
     "metadata": {},
     "output_type": "execute_result"
    }
   ],
   "source": [
    "# first record\n",
    "json_data['features'][0].keys()"
   ]
  },
  {
   "cell_type": "code",
   "execution_count": 13,
   "id": "c7b10bb2-f2fc-46e8-b872-3b0d97cba025",
   "metadata": {},
   "outputs": [
    {
     "data": {
      "text/plain": [
       "'Feature'"
      ]
     },
     "execution_count": 13,
     "metadata": {},
     "output_type": "execute_result"
    }
   ],
   "source": [
    "json_data['features'][0]['type']"
   ]
  },
  {
   "cell_type": "code",
   "execution_count": 14,
   "id": "6fed49af-fece-4a86-aa0d-3e95d1a785a2",
   "metadata": {},
   "outputs": [
    {
     "data": {
      "text/plain": [
       "dict_keys(['mag', 'place', 'time', 'updated', 'tz', 'url', 'detail', 'felt', 'cdi', 'mmi', 'alert', 'status', 'tsunami', 'sig', 'net', 'code', 'ids', 'sources', 'types', 'nst', 'dmin', 'rms', 'gap', 'magType', 'type', 'title'])"
      ]
     },
     "execution_count": 14,
     "metadata": {},
     "output_type": "execute_result"
    }
   ],
   "source": [
    "# 26 features\n",
    "json_data['features'][0]['properties'].keys()"
   ]
  },
  {
   "cell_type": "code",
   "execution_count": 15,
   "id": "b9e535b5-fbe7-4e5c-9a4d-ec21bad8a3f7",
   "metadata": {},
   "outputs": [
    {
     "data": {
      "text/plain": [
       "{'mag': 4.2,\n",
       " 'place': '5 km NNE of Jayapura, Indonesia',\n",
       " 'time': 1672617569195,\n",
       " 'updated': 1678575106040,\n",
       " 'tz': None,\n",
       " 'url': 'https://earthquake.usgs.gov/earthquakes/eventpage/us7000j3yb',\n",
       " 'detail': 'https://earthquake.usgs.gov/fdsnws/event/1/query?eventid=us7000j3yb&format=geojson',\n",
       " 'felt': None,\n",
       " 'cdi': None,\n",
       " 'mmi': None,\n",
       " 'alert': None,\n",
       " 'status': 'reviewed',\n",
       " 'tsunami': 0,\n",
       " 'sig': 271,\n",
       " 'net': 'us',\n",
       " 'code': '7000j3yb',\n",
       " 'ids': ',us7000j3yb,',\n",
       " 'sources': ',us,',\n",
       " 'types': ',origin,phase-data,',\n",
       " 'nst': 19,\n",
       " 'dmin': 16.495,\n",
       " 'rms': 0.45,\n",
       " 'gap': 99,\n",
       " 'magType': 'mb',\n",
       " 'type': 'earthquake',\n",
       " 'title': 'M 4.2 - 5 km NNE of Jayapura, Indonesia'}"
      ]
     },
     "execution_count": 15,
     "metadata": {},
     "output_type": "execute_result"
    }
   ],
   "source": [
    "json_data['features'][0]['properties']"
   ]
  },
  {
   "cell_type": "code",
   "execution_count": 16,
   "id": "b41a35c5-d71f-4715-b46b-16ed2130e5a3",
   "metadata": {},
   "outputs": [
    {
     "data": {
      "text/plain": [
       "{'type': 'Point', 'coordinates': [140.7385, -2.493, 10]}"
      ]
     },
     "execution_count": 16,
     "metadata": {},
     "output_type": "execute_result"
    }
   ],
   "source": [
    "# coordinates: latitude, longitude, depth\n",
    "json_data['features'][0]['geometry']"
   ]
  },
  {
   "cell_type": "code",
   "execution_count": 17,
   "id": "8b3836e2-2c1e-4b24-b254-bcd47caba5a5",
   "metadata": {},
   "outputs": [
    {
     "data": {
      "text/plain": [
       "'us7000j3yb'"
      ]
     },
     "execution_count": 17,
     "metadata": {},
     "output_type": "execute_result"
    }
   ],
   "source": [
    "json_data['features'][0]['id']"
   ]
  },
  {
   "cell_type": "markdown",
   "id": "38d43753-1d3f-4326-b567-bfd5ac2da134",
   "metadata": {},
   "source": [
    "### Flatten and preprocessing"
   ]
  },
  {
   "cell_type": "markdown",
   "id": "6fda8c56-c39b-4c6b-9bff-fd1cd94c4404",
   "metadata": {},
   "source": [
    "Challenges:\n",
    "- Flatten nested json data\n",
    "- Fill null values\n",
    "- Convert data type"
   ]
  },
  {
   "cell_type": "code",
   "execution_count": 35,
   "id": "ddc8c7fd-8aaf-4ed9-99dd-83ab93618d6e",
   "metadata": {},
   "outputs": [
    {
     "data": {
      "text/html": [
       "<div>\n",
       "<style scoped>\n",
       "    .dataframe tbody tr th:only-of-type {\n",
       "        vertical-align: middle;\n",
       "    }\n",
       "\n",
       "    .dataframe tbody tr th {\n",
       "        vertical-align: top;\n",
       "    }\n",
       "\n",
       "    .dataframe thead th {\n",
       "        text-align: right;\n",
       "    }\n",
       "</style>\n",
       "<table border=\"1\" class=\"dataframe\">\n",
       "  <thead>\n",
       "    <tr style=\"text-align: right;\">\n",
       "      <th></th>\n",
       "      <th>type</th>\n",
       "      <th>id</th>\n",
       "      <th>properties_mag</th>\n",
       "      <th>properties_place</th>\n",
       "      <th>properties_time</th>\n",
       "      <th>properties_updated</th>\n",
       "      <th>properties_tz</th>\n",
       "      <th>properties_url</th>\n",
       "      <th>properties_detail</th>\n",
       "      <th>properties_felt</th>\n",
       "      <th>...</th>\n",
       "      <th>properties_nst</th>\n",
       "      <th>properties_dmin</th>\n",
       "      <th>properties_rms</th>\n",
       "      <th>properties_gap</th>\n",
       "      <th>properties_magType</th>\n",
       "      <th>properties_type</th>\n",
       "      <th>properties_title</th>\n",
       "      <th>geometry_type</th>\n",
       "      <th>geometry_coordinates</th>\n",
       "      <th>metadata</th>\n",
       "    </tr>\n",
       "  </thead>\n",
       "  <tbody>\n",
       "    <tr>\n",
       "      <th>0</th>\n",
       "      <td>Feature</td>\n",
       "      <td>us7000j3yb</td>\n",
       "      <td>4.20</td>\n",
       "      <td>5 km NNE of Jayapura, Indonesia</td>\n",
       "      <td>1672617569195</td>\n",
       "      <td>1678575106040</td>\n",
       "      <td>None</td>\n",
       "      <td>https://earthquake.usgs.gov/earthquakes/eventp...</td>\n",
       "      <td>https://earthquake.usgs.gov/fdsnws/event/1/que...</td>\n",
       "      <td>NaN</td>\n",
       "      <td>...</td>\n",
       "      <td>19.0</td>\n",
       "      <td>16.495000</td>\n",
       "      <td>0.45</td>\n",
       "      <td>99.0</td>\n",
       "      <td>mb</td>\n",
       "      <td>earthquake</td>\n",
       "      <td>M 4.2 - 5 km NNE of Jayapura, Indonesia</td>\n",
       "      <td>Point</td>\n",
       "      <td>[140.7385, -2.493, 10]</td>\n",
       "      <td>{'generated': 1700308166000, 'url': 'https://e...</td>\n",
       "    </tr>\n",
       "    <tr>\n",
       "      <th>1</th>\n",
       "      <td>Feature</td>\n",
       "      <td>pr2023001004</td>\n",
       "      <td>3.62</td>\n",
       "      <td>103 km N of Suárez, Puerto Rico</td>\n",
       "      <td>1672617413930</td>\n",
       "      <td>1672619526212</td>\n",
       "      <td>None</td>\n",
       "      <td>https://earthquake.usgs.gov/earthquakes/eventp...</td>\n",
       "      <td>https://earthquake.usgs.gov/fdsnws/event/1/que...</td>\n",
       "      <td>NaN</td>\n",
       "      <td>...</td>\n",
       "      <td>14.0</td>\n",
       "      <td>1.110400</td>\n",
       "      <td>0.44</td>\n",
       "      <td>270.0</td>\n",
       "      <td>md</td>\n",
       "      <td>earthquake</td>\n",
       "      <td>M 3.6 - 103 km N of Suárez, Puerto Rico</td>\n",
       "      <td>Point</td>\n",
       "      <td>[-65.7256, 19.3601, 34]</td>\n",
       "      <td>{'generated': 1700308166000, 'url': 'https://e...</td>\n",
       "    </tr>\n",
       "    <tr>\n",
       "      <th>2</th>\n",
       "      <td>Feature</td>\n",
       "      <td>av91082783</td>\n",
       "      <td>-0.76</td>\n",
       "      <td>85 km NNW of Karluk, Alaska</td>\n",
       "      <td>1672617277550</td>\n",
       "      <td>1672860382700</td>\n",
       "      <td>None</td>\n",
       "      <td>https://earthquake.usgs.gov/earthquakes/eventp...</td>\n",
       "      <td>https://earthquake.usgs.gov/fdsnws/event/1/que...</td>\n",
       "      <td>NaN</td>\n",
       "      <td>...</td>\n",
       "      <td>6.0</td>\n",
       "      <td>NaN</td>\n",
       "      <td>0.06</td>\n",
       "      <td>217.0</td>\n",
       "      <td>ml</td>\n",
       "      <td>earthquake</td>\n",
       "      <td>M -0.8 - 85 km NNW of Karluk, Alaska</td>\n",
       "      <td>Point</td>\n",
       "      <td>[-155.180333333333, 58.2275, 3.08]</td>\n",
       "      <td>{'generated': 1700308166000, 'url': 'https://e...</td>\n",
       "    </tr>\n",
       "    <tr>\n",
       "      <th>3</th>\n",
       "      <td>Feature</td>\n",
       "      <td>nc73827681</td>\n",
       "      <td>0.57</td>\n",
       "      <td>10km NW of The Geysers, CA</td>\n",
       "      <td>1672617223560</td>\n",
       "      <td>1673410751822</td>\n",
       "      <td>None</td>\n",
       "      <td>https://earthquake.usgs.gov/earthquakes/eventp...</td>\n",
       "      <td>https://earthquake.usgs.gov/fdsnws/event/1/que...</td>\n",
       "      <td>NaN</td>\n",
       "      <td>...</td>\n",
       "      <td>21.0</td>\n",
       "      <td>0.007542</td>\n",
       "      <td>0.02</td>\n",
       "      <td>96.0</td>\n",
       "      <td>md</td>\n",
       "      <td>earthquake</td>\n",
       "      <td>M 0.6 - 10km NW of The Geysers, CA</td>\n",
       "      <td>Point</td>\n",
       "      <td>[-122.8415, 38.8445, 2.06]</td>\n",
       "      <td>{'generated': 1700308166000, 'url': 'https://e...</td>\n",
       "    </tr>\n",
       "    <tr>\n",
       "      <th>4</th>\n",
       "      <td>Feature</td>\n",
       "      <td>pr71390293</td>\n",
       "      <td>2.28</td>\n",
       "      <td>None</td>\n",
       "      <td>1672617148580</td>\n",
       "      <td>1672618140720</td>\n",
       "      <td>None</td>\n",
       "      <td>https://earthquake.usgs.gov/earthquakes/eventp...</td>\n",
       "      <td>https://earthquake.usgs.gov/fdsnws/event/1/que...</td>\n",
       "      <td>NaN</td>\n",
       "      <td>...</td>\n",
       "      <td>5.0</td>\n",
       "      <td>0.092310</td>\n",
       "      <td>0.08</td>\n",
       "      <td>242.0</td>\n",
       "      <td>md</td>\n",
       "      <td>earthquake</td>\n",
       "      <td>M 2.3 -</td>\n",
       "      <td>Point</td>\n",
       "      <td>[-66.8565, 17.8848333333333, 11.19]</td>\n",
       "      <td>{'generated': 1700308166000, 'url': 'https://e...</td>\n",
       "    </tr>\n",
       "  </tbody>\n",
       "</table>\n",
       "<p>5 rows × 31 columns</p>\n",
       "</div>"
      ],
      "text/plain": [
       "      type            id  properties_mag                 properties_place  \\\n",
       "0  Feature    us7000j3yb            4.20  5 km NNE of Jayapura, Indonesia   \n",
       "1  Feature  pr2023001004            3.62  103 km N of Suárez, Puerto Rico   \n",
       "2  Feature    av91082783           -0.76      85 km NNW of Karluk, Alaska   \n",
       "3  Feature    nc73827681            0.57       10km NW of The Geysers, CA   \n",
       "4  Feature    pr71390293            2.28                             None   \n",
       "\n",
       "   properties_time  properties_updated properties_tz  \\\n",
       "0    1672617569195       1678575106040          None   \n",
       "1    1672617413930       1672619526212          None   \n",
       "2    1672617277550       1672860382700          None   \n",
       "3    1672617223560       1673410751822          None   \n",
       "4    1672617148580       1672618140720          None   \n",
       "\n",
       "                                      properties_url  \\\n",
       "0  https://earthquake.usgs.gov/earthquakes/eventp...   \n",
       "1  https://earthquake.usgs.gov/earthquakes/eventp...   \n",
       "2  https://earthquake.usgs.gov/earthquakes/eventp...   \n",
       "3  https://earthquake.usgs.gov/earthquakes/eventp...   \n",
       "4  https://earthquake.usgs.gov/earthquakes/eventp...   \n",
       "\n",
       "                                   properties_detail  properties_felt  ...  \\\n",
       "0  https://earthquake.usgs.gov/fdsnws/event/1/que...              NaN  ...   \n",
       "1  https://earthquake.usgs.gov/fdsnws/event/1/que...              NaN  ...   \n",
       "2  https://earthquake.usgs.gov/fdsnws/event/1/que...              NaN  ...   \n",
       "3  https://earthquake.usgs.gov/fdsnws/event/1/que...              NaN  ...   \n",
       "4  https://earthquake.usgs.gov/fdsnws/event/1/que...              NaN  ...   \n",
       "\n",
       "   properties_nst  properties_dmin properties_rms properties_gap  \\\n",
       "0            19.0        16.495000           0.45           99.0   \n",
       "1            14.0         1.110400           0.44          270.0   \n",
       "2             6.0              NaN           0.06          217.0   \n",
       "3            21.0         0.007542           0.02           96.0   \n",
       "4             5.0         0.092310           0.08          242.0   \n",
       "\n",
       "   properties_magType  properties_type  \\\n",
       "0                  mb       earthquake   \n",
       "1                  md       earthquake   \n",
       "2                  ml       earthquake   \n",
       "3                  md       earthquake   \n",
       "4                  md       earthquake   \n",
       "\n",
       "                          properties_title geometry_type  \\\n",
       "0  M 4.2 - 5 km NNE of Jayapura, Indonesia         Point   \n",
       "1  M 3.6 - 103 km N of Suárez, Puerto Rico         Point   \n",
       "2     M -0.8 - 85 km NNW of Karluk, Alaska         Point   \n",
       "3       M 0.6 - 10km NW of The Geysers, CA         Point   \n",
       "4                                 M 2.3 -          Point   \n",
       "\n",
       "                  geometry_coordinates  \\\n",
       "0               [140.7385, -2.493, 10]   \n",
       "1              [-65.7256, 19.3601, 34]   \n",
       "2   [-155.180333333333, 58.2275, 3.08]   \n",
       "3           [-122.8415, 38.8445, 2.06]   \n",
       "4  [-66.8565, 17.8848333333333, 11.19]   \n",
       "\n",
       "                                            metadata  \n",
       "0  {'generated': 1700308166000, 'url': 'https://e...  \n",
       "1  {'generated': 1700308166000, 'url': 'https://e...  \n",
       "2  {'generated': 1700308166000, 'url': 'https://e...  \n",
       "3  {'generated': 1700308166000, 'url': 'https://e...  \n",
       "4  {'generated': 1700308166000, 'url': 'https://e...  \n",
       "\n",
       "[5 rows x 31 columns]"
      ]
     },
     "execution_count": 35,
     "metadata": {},
     "output_type": "execute_result"
    }
   ],
   "source": [
    "df_json = pd.json_normalize(json_data, record_path=[\"features\"], meta=\"metadata\", sep=\"_\")\n",
    "\n",
    "df_json.head()"
   ]
  },
  {
   "cell_type": "code",
   "execution_count": 36,
   "id": "bff1457a-e75c-45db-9619-7720d6394043",
   "metadata": {},
   "outputs": [
    {
     "name": "stdout",
     "output_type": "stream",
     "text": [
      "<class 'pandas.core.frame.DataFrame'>\n",
      "RangeIndex: 349 entries, 0 to 348\n",
      "Data columns (total 31 columns):\n",
      " #   Column                Non-Null Count  Dtype  \n",
      "---  ------                --------------  -----  \n",
      " 0   type                  349 non-null    object \n",
      " 1   id                    349 non-null    object \n",
      " 2   properties_mag        348 non-null    float64\n",
      " 3   properties_place      327 non-null    object \n",
      " 4   properties_time       349 non-null    int64  \n",
      " 5   properties_updated    349 non-null    int64  \n",
      " 6   properties_tz         0 non-null      object \n",
      " 7   properties_url        349 non-null    object \n",
      " 8   properties_detail     349 non-null    object \n",
      " 9   properties_felt       31 non-null     float64\n",
      " 10  properties_cdi        31 non-null     float64\n",
      " 11  properties_mmi        7 non-null      float64\n",
      " 12  properties_alert      5 non-null      object \n",
      " 13  properties_status     349 non-null    object \n",
      " 14  properties_tsunami    349 non-null    int64  \n",
      " 15  properties_sig        349 non-null    int64  \n",
      " 16  properties_net        349 non-null    object \n",
      " 17  properties_code       349 non-null    object \n",
      " 18  properties_ids        349 non-null    object \n",
      " 19  properties_sources    349 non-null    object \n",
      " 20  properties_types      349 non-null    object \n",
      " 21  properties_nst        272 non-null    float64\n",
      " 22  properties_dmin       205 non-null    float64\n",
      " 23  properties_rms        349 non-null    float64\n",
      " 24  properties_gap        272 non-null    float64\n",
      " 25  properties_magType    348 non-null    object \n",
      " 26  properties_type       349 non-null    object \n",
      " 27  properties_title      349 non-null    object \n",
      " 28  geometry_type         349 non-null    object \n",
      " 29  geometry_coordinates  349 non-null    object \n",
      " 30  metadata              349 non-null    object \n",
      "dtypes: float64(8), int64(4), object(19)\n",
      "memory usage: 84.6+ KB\n"
     ]
    }
   ],
   "source": [
    "df_json.info()"
   ]
  },
  {
   "cell_type": "markdown",
   "id": "59626cb2-c815-4354-aa8d-aec9f7aa4256",
   "metadata": {},
   "source": [
    "Flatten `geometry_coordinates` feature"
   ]
  },
  {
   "cell_type": "code",
   "execution_count": 37,
   "id": "43d5507b-7d66-4d48-ab21-f5a97d897652",
   "metadata": {},
   "outputs": [],
   "source": [
    "# flatten geometry_coordinates\n",
    "df_json[[\"geometry_coordinates_latitude\", \"geometry_coordinates_longitude\", \"geometry_coordinates_depth\"]] = df_json[\"geometry_coordinates\"].tolist()"
   ]
  },
  {
   "cell_type": "code",
   "execution_count": 39,
   "id": "0bfb6c61-dae2-413b-9e72-eb19ce0f9323",
   "metadata": {},
   "outputs": [],
   "source": [
    "df_json.drop([\"geometry_coordinates\"], axis=1, inplace=True)"
   ]
  },
  {
   "cell_type": "markdown",
   "id": "a4f37869-5d92-4874-9aa4-3e6b4e4c3b7f",
   "metadata": {},
   "source": [
    "Flatten `geometry_coordinates` feature"
   ]
  },
  {
   "cell_type": "code",
   "execution_count": 40,
   "id": "0adb6ec3-9ca7-422c-adec-3a042733b72e",
   "metadata": {},
   "outputs": [
    {
     "data": {
      "text/plain": [
       "{'generated': 1700308166000,\n",
       " 'url': 'https://earthquake.usgs.gov/fdsnws/event/1/query?format=geojson&starttime=2023-01-01&endtime=2023-01-02',\n",
       " 'title': 'USGS Earthquakes',\n",
       " 'status': 200,\n",
       " 'api': '1.14.0',\n",
       " 'count': 349}"
      ]
     },
     "execution_count": 40,
     "metadata": {},
     "output_type": "execute_result"
    }
   ],
   "source": [
    "df_json['metadata'][0]"
   ]
  },
  {
   "cell_type": "code",
   "execution_count": 41,
   "id": "7880bb98-322b-4252-9963-a718ab9f4411",
   "metadata": {},
   "outputs": [],
   "source": [
    "df_json = pd.concat(\n",
    "    [df_json, pd.json_normalize(df_json[\"metadata\"]).add_prefix(\"metadata_\")],\n",
    "    axis=1\n",
    ")"
   ]
  },
  {
   "cell_type": "code",
   "execution_count": 43,
   "id": "ece7f558-d8a5-4393-a8a8-e3909f92ed0b",
   "metadata": {},
   "outputs": [],
   "source": [
    "df_json.drop([\"metadata\"], axis=1, inplace=True)"
   ]
  },
  {
   "cell_type": "markdown",
   "id": "5633c5d1-0a5b-4b1f-805b-b3d6a1c2c012",
   "metadata": {},
   "source": [
    "Fill null values"
   ]
  },
  {
   "cell_type": "code",
   "execution_count": 58,
   "id": "126c338a-16d9-46c0-a277-18a84e86687b",
   "metadata": {},
   "outputs": [
    {
     "data": {
      "text/plain": [
       "0     NaN\n",
       "1     NaN\n",
       "2     NaN\n",
       "3     NaN\n",
       "4     NaN\n",
       "       ..\n",
       "344   NaN\n",
       "345   NaN\n",
       "346   NaN\n",
       "347   NaN\n",
       "348   NaN\n",
       "Name: properties_cdi, Length: 349, dtype: float64"
      ]
     },
     "execution_count": 58,
     "metadata": {},
     "output_type": "execute_result"
    }
   ],
   "source": [
    "df_json[\"properties_cdi\"]"
   ]
  },
  {
   "cell_type": "code",
   "execution_count": 51,
   "id": "c9c67cbb-d9c0-4491-aa63-e2cb962e0599",
   "metadata": {},
   "outputs": [
    {
     "name": "stdout",
     "output_type": "stream",
     "text": [
      "<class 'pandas.core.frame.DataFrame'>\n",
      "RangeIndex: 349 entries, 0 to 348\n",
      "Data columns (total 38 columns):\n",
      " #   Column                          Non-Null Count  Dtype  \n",
      "---  ------                          --------------  -----  \n",
      " 0   type                            349 non-null    object \n",
      " 1   id                              349 non-null    object \n",
      " 2   properties_mag                  348 non-null    float64\n",
      " 3   properties_place                327 non-null    object \n",
      " 4   properties_time                 349 non-null    int64  \n",
      " 5   properties_updated              349 non-null    int64  \n",
      " 6   properties_tz                   0 non-null      object \n",
      " 7   properties_url                  349 non-null    object \n",
      " 8   properties_detail               349 non-null    object \n",
      " 9   properties_felt                 31 non-null     float64\n",
      " 10  properties_cdi                  31 non-null     float64\n",
      " 11  properties_mmi                  7 non-null      float64\n",
      " 12  properties_alert                5 non-null      object \n",
      " 13  properties_status               349 non-null    object \n",
      " 14  properties_tsunami              349 non-null    int64  \n",
      " 15  properties_sig                  349 non-null    int64  \n",
      " 16  properties_net                  349 non-null    object \n",
      " 17  properties_code                 349 non-null    object \n",
      " 18  properties_ids                  349 non-null    object \n",
      " 19  properties_sources              349 non-null    object \n",
      " 20  properties_types                349 non-null    object \n",
      " 21  properties_nst                  272 non-null    float64\n",
      " 22  properties_dmin                 205 non-null    float64\n",
      " 23  properties_rms                  349 non-null    float64\n",
      " 24  properties_gap                  272 non-null    float64\n",
      " 25  properties_magType              348 non-null    object \n",
      " 26  properties_type                 349 non-null    object \n",
      " 27  properties_title                349 non-null    object \n",
      " 28  geometry_type                   349 non-null    object \n",
      " 29  geometry_coordinates_latitude   349 non-null    float64\n",
      " 30  geometry_coordinates_longitude  349 non-null    float64\n",
      " 31  geometry_coordinates_depth      349 non-null    float64\n",
      " 32  metadata_generated              349 non-null    int64  \n",
      " 33  metadata_url                    349 non-null    object \n",
      " 34  metadata_title                  349 non-null    object \n",
      " 35  metadata_status                 349 non-null    int64  \n",
      " 36  metadata_api                    349 non-null    object \n",
      " 37  metadata_count                  349 non-null    int64  \n",
      "dtypes: float64(11), int64(7), object(20)\n",
      "memory usage: 103.7+ KB\n"
     ]
    }
   ],
   "source": [
    "df_json.info"
   ]
  },
  {
   "cell_type": "code",
   "execution_count": 71,
   "id": "53090e76-85d2-413d-be2d-6d0c882d30e2",
   "metadata": {},
   "outputs": [],
   "source": [
    "df_json[\"metadata_generated_datetime\"] = pd.to_datetime(df_json[\"metadata_generated\"], unit=\"ms\")"
   ]
  },
  {
   "cell_type": "code",
   "execution_count": 72,
   "id": "b6a10753-b1be-4476-ab9d-d0aa8eeb372a",
   "metadata": {},
   "outputs": [],
   "source": [
    "df_json[\"properties_time_datetime\"] = pd.to_datetime(df_json[\"properties_time\"], unit=\"ms\")"
   ]
  },
  {
   "cell_type": "code",
   "execution_count": 73,
   "id": "cf64b53b-e9e5-4335-b31c-d84ee6557d65",
   "metadata": {},
   "outputs": [],
   "source": [
    "df_json[\"properties_updated_datetime\"] = pd.to_datetime(df_json[\"properties_updated\"], unit=\"ms\")"
   ]
  },
  {
   "cell_type": "code",
   "execution_count": 81,
   "id": "1bc56b5a-96af-4ef5-a002-52328c2eac10",
   "metadata": {},
   "outputs": [],
   "source": [
    "df_json[['properties_felt', 'properties_nst']] = df_json[['properties_felt', 'properties_nst']].astype('Int64')"
   ]
  },
  {
   "cell_type": "code",
   "execution_count": 82,
   "id": "bf4f0181-50e3-4284-9663-d27954370825",
   "metadata": {},
   "outputs": [
    {
     "name": "stdout",
     "output_type": "stream",
     "text": [
      "<class 'pandas.core.frame.DataFrame'>\n",
      "RangeIndex: 349 entries, 0 to 348\n",
      "Data columns (total 41 columns):\n",
      " #   Column                          Non-Null Count  Dtype         \n",
      "---  ------                          --------------  -----         \n",
      " 0   type                            349 non-null    object        \n",
      " 1   id                              349 non-null    object        \n",
      " 2   properties_mag                  348 non-null    float64       \n",
      " 3   properties_place                327 non-null    object        \n",
      " 4   properties_time                 349 non-null    int64         \n",
      " 5   properties_updated              349 non-null    int64         \n",
      " 6   properties_tz                   0 non-null      object        \n",
      " 7   properties_url                  349 non-null    object        \n",
      " 8   properties_detail               349 non-null    object        \n",
      " 9   properties_felt                 31 non-null     Int64         \n",
      " 10  properties_cdi                  31 non-null     float64       \n",
      " 11  properties_mmi                  7 non-null      float64       \n",
      " 12  properties_alert                5 non-null      object        \n",
      " 13  properties_status               349 non-null    object        \n",
      " 14  properties_tsunami              349 non-null    int64         \n",
      " 15  properties_sig                  349 non-null    int64         \n",
      " 16  properties_net                  349 non-null    object        \n",
      " 17  properties_code                 349 non-null    object        \n",
      " 18  properties_ids                  349 non-null    object        \n",
      " 19  properties_sources              349 non-null    object        \n",
      " 20  properties_types                349 non-null    object        \n",
      " 21  properties_nst                  272 non-null    Int64         \n",
      " 22  properties_dmin                 205 non-null    float64       \n",
      " 23  properties_rms                  349 non-null    float64       \n",
      " 24  properties_gap                  272 non-null    float64       \n",
      " 25  properties_magType              348 non-null    object        \n",
      " 26  properties_type                 349 non-null    object        \n",
      " 27  properties_title                349 non-null    object        \n",
      " 28  geometry_type                   349 non-null    object        \n",
      " 29  geometry_coordinates_latitude   349 non-null    float64       \n",
      " 30  geometry_coordinates_longitude  349 non-null    float64       \n",
      " 31  geometry_coordinates_depth      349 non-null    float64       \n",
      " 32  metadata_generated              349 non-null    int64         \n",
      " 33  metadata_url                    349 non-null    object        \n",
      " 34  metadata_title                  349 non-null    object        \n",
      " 35  metadata_status                 349 non-null    int64         \n",
      " 36  metadata_api                    349 non-null    object        \n",
      " 37  metadata_count                  349 non-null    int64         \n",
      " 38  metadata_generated_datetime     349 non-null    datetime64[ns]\n",
      " 39  properties_time_datetime        349 non-null    datetime64[ns]\n",
      " 40  properties_updated_datetime     349 non-null    datetime64[ns]\n",
      "dtypes: Int64(2), datetime64[ns](3), float64(9), int64(7), object(20)\n",
      "memory usage: 112.6+ KB\n"
     ]
    }
   ],
   "source": [
    "df_json.info()"
   ]
  },
  {
   "cell_type": "code",
   "execution_count": 83,
   "id": "08450db7-d5d7-42bd-9b55-8259aa2e7549",
   "metadata": {},
   "outputs": [],
   "source": [
    "df_json.to_parquet(f\"data/raw/parquet/data_{starttime}.parquet\", compression=\"gzip\")"
   ]
  },
  {
   "cell_type": "markdown",
   "id": "a8749ac7-5039-4369-9228-291cdd733c4b",
   "metadata": {
    "jp-MarkdownHeadingCollapsed": true
   },
   "source": [
    "## Save parquet data to locale"
   ]
  },
  {
   "cell_type": "code",
   "execution_count": 129,
   "id": "c5310c55-6af5-410d-93be-58d044bebabc",
   "metadata": {},
   "outputs": [
    {
     "data": {
      "text/html": [
       "<div>\n",
       "<style scoped>\n",
       "    .dataframe tbody tr th:only-of-type {\n",
       "        vertical-align: middle;\n",
       "    }\n",
       "\n",
       "    .dataframe tbody tr th {\n",
       "        vertical-align: top;\n",
       "    }\n",
       "\n",
       "    .dataframe thead th {\n",
       "        text-align: right;\n",
       "    }\n",
       "</style>\n",
       "<table border=\"1\" class=\"dataframe\">\n",
       "  <thead>\n",
       "    <tr style=\"text-align: right;\">\n",
       "      <th></th>\n",
       "      <th>type</th>\n",
       "      <th>id</th>\n",
       "      <th>properties_mag</th>\n",
       "      <th>properties_place</th>\n",
       "      <th>properties_time</th>\n",
       "      <th>properties_updated</th>\n",
       "      <th>properties_tz</th>\n",
       "      <th>properties_url</th>\n",
       "      <th>properties_detail</th>\n",
       "      <th>properties_felt</th>\n",
       "      <th>...</th>\n",
       "      <th>properties_nst</th>\n",
       "      <th>properties_dmin</th>\n",
       "      <th>properties_rms</th>\n",
       "      <th>properties_gap</th>\n",
       "      <th>properties_magType</th>\n",
       "      <th>properties_type</th>\n",
       "      <th>properties_title</th>\n",
       "      <th>geometry_type</th>\n",
       "      <th>geometry_coordinates</th>\n",
       "      <th>metadata</th>\n",
       "    </tr>\n",
       "  </thead>\n",
       "  <tbody>\n",
       "    <tr>\n",
       "      <th>0</th>\n",
       "      <td>Feature</td>\n",
       "      <td>us7000j3yb</td>\n",
       "      <td>4.20</td>\n",
       "      <td>5 km NNE of Jayapura, Indonesia</td>\n",
       "      <td>1672617569195</td>\n",
       "      <td>1678575106040</td>\n",
       "      <td>None</td>\n",
       "      <td>https://earthquake.usgs.gov/earthquakes/eventp...</td>\n",
       "      <td>https://earthquake.usgs.gov/fdsnws/event/1/que...</td>\n",
       "      <td>NaN</td>\n",
       "      <td>...</td>\n",
       "      <td>19.0</td>\n",
       "      <td>16.495000</td>\n",
       "      <td>0.45</td>\n",
       "      <td>99.0</td>\n",
       "      <td>mb</td>\n",
       "      <td>earthquake</td>\n",
       "      <td>M 4.2 - 5 km NNE of Jayapura, Indonesia</td>\n",
       "      <td>Point</td>\n",
       "      <td>[140.7385, -2.493, 10.0]</td>\n",
       "      <td>{'api': '1.14.0', 'count': 349, 'generated': 1...</td>\n",
       "    </tr>\n",
       "    <tr>\n",
       "      <th>1</th>\n",
       "      <td>Feature</td>\n",
       "      <td>pr2023001004</td>\n",
       "      <td>3.62</td>\n",
       "      <td>103 km N of Suárez, Puerto Rico</td>\n",
       "      <td>1672617413930</td>\n",
       "      <td>1672619526212</td>\n",
       "      <td>None</td>\n",
       "      <td>https://earthquake.usgs.gov/earthquakes/eventp...</td>\n",
       "      <td>https://earthquake.usgs.gov/fdsnws/event/1/que...</td>\n",
       "      <td>NaN</td>\n",
       "      <td>...</td>\n",
       "      <td>14.0</td>\n",
       "      <td>1.110400</td>\n",
       "      <td>0.44</td>\n",
       "      <td>270.0</td>\n",
       "      <td>md</td>\n",
       "      <td>earthquake</td>\n",
       "      <td>M 3.6 - 103 km N of Suárez, Puerto Rico</td>\n",
       "      <td>Point</td>\n",
       "      <td>[-65.7256, 19.3601, 34.0]</td>\n",
       "      <td>{'api': '1.14.0', 'count': 349, 'generated': 1...</td>\n",
       "    </tr>\n",
       "    <tr>\n",
       "      <th>2</th>\n",
       "      <td>Feature</td>\n",
       "      <td>av91082783</td>\n",
       "      <td>-0.76</td>\n",
       "      <td>85 km NNW of Karluk, Alaska</td>\n",
       "      <td>1672617277550</td>\n",
       "      <td>1672860382700</td>\n",
       "      <td>None</td>\n",
       "      <td>https://earthquake.usgs.gov/earthquakes/eventp...</td>\n",
       "      <td>https://earthquake.usgs.gov/fdsnws/event/1/que...</td>\n",
       "      <td>NaN</td>\n",
       "      <td>...</td>\n",
       "      <td>6.0</td>\n",
       "      <td>NaN</td>\n",
       "      <td>0.06</td>\n",
       "      <td>217.0</td>\n",
       "      <td>ml</td>\n",
       "      <td>earthquake</td>\n",
       "      <td>M -0.8 - 85 km NNW of Karluk, Alaska</td>\n",
       "      <td>Point</td>\n",
       "      <td>[-155.180333333333, 58.2275, 3.08]</td>\n",
       "      <td>{'api': '1.14.0', 'count': 349, 'generated': 1...</td>\n",
       "    </tr>\n",
       "    <tr>\n",
       "      <th>3</th>\n",
       "      <td>Feature</td>\n",
       "      <td>nc73827681</td>\n",
       "      <td>0.57</td>\n",
       "      <td>10km NW of The Geysers, CA</td>\n",
       "      <td>1672617223560</td>\n",
       "      <td>1673410751822</td>\n",
       "      <td>None</td>\n",
       "      <td>https://earthquake.usgs.gov/earthquakes/eventp...</td>\n",
       "      <td>https://earthquake.usgs.gov/fdsnws/event/1/que...</td>\n",
       "      <td>NaN</td>\n",
       "      <td>...</td>\n",
       "      <td>21.0</td>\n",
       "      <td>0.007542</td>\n",
       "      <td>0.02</td>\n",
       "      <td>96.0</td>\n",
       "      <td>md</td>\n",
       "      <td>earthquake</td>\n",
       "      <td>M 0.6 - 10km NW of The Geysers, CA</td>\n",
       "      <td>Point</td>\n",
       "      <td>[-122.8415, 38.8445, 2.06]</td>\n",
       "      <td>{'api': '1.14.0', 'count': 349, 'generated': 1...</td>\n",
       "    </tr>\n",
       "    <tr>\n",
       "      <th>4</th>\n",
       "      <td>Feature</td>\n",
       "      <td>pr71390293</td>\n",
       "      <td>2.28</td>\n",
       "      <td>None</td>\n",
       "      <td>1672617148580</td>\n",
       "      <td>1672618140720</td>\n",
       "      <td>None</td>\n",
       "      <td>https://earthquake.usgs.gov/earthquakes/eventp...</td>\n",
       "      <td>https://earthquake.usgs.gov/fdsnws/event/1/que...</td>\n",
       "      <td>NaN</td>\n",
       "      <td>...</td>\n",
       "      <td>5.0</td>\n",
       "      <td>0.092310</td>\n",
       "      <td>0.08</td>\n",
       "      <td>242.0</td>\n",
       "      <td>md</td>\n",
       "      <td>earthquake</td>\n",
       "      <td>M 2.3 -</td>\n",
       "      <td>Point</td>\n",
       "      <td>[-66.8565, 17.8848333333333, 11.19]</td>\n",
       "      <td>{'api': '1.14.0', 'count': 349, 'generated': 1...</td>\n",
       "    </tr>\n",
       "  </tbody>\n",
       "</table>\n",
       "<p>5 rows × 31 columns</p>\n",
       "</div>"
      ],
      "text/plain": [
       "      type            id  properties_mag                 properties_place  \\\n",
       "0  Feature    us7000j3yb            4.20  5 km NNE of Jayapura, Indonesia   \n",
       "1  Feature  pr2023001004            3.62  103 km N of Suárez, Puerto Rico   \n",
       "2  Feature    av91082783           -0.76      85 km NNW of Karluk, Alaska   \n",
       "3  Feature    nc73827681            0.57       10km NW of The Geysers, CA   \n",
       "4  Feature    pr71390293            2.28                             None   \n",
       "\n",
       "   properties_time  properties_updated properties_tz  \\\n",
       "0    1672617569195       1678575106040          None   \n",
       "1    1672617413930       1672619526212          None   \n",
       "2    1672617277550       1672860382700          None   \n",
       "3    1672617223560       1673410751822          None   \n",
       "4    1672617148580       1672618140720          None   \n",
       "\n",
       "                                      properties_url  \\\n",
       "0  https://earthquake.usgs.gov/earthquakes/eventp...   \n",
       "1  https://earthquake.usgs.gov/earthquakes/eventp...   \n",
       "2  https://earthquake.usgs.gov/earthquakes/eventp...   \n",
       "3  https://earthquake.usgs.gov/earthquakes/eventp...   \n",
       "4  https://earthquake.usgs.gov/earthquakes/eventp...   \n",
       "\n",
       "                                   properties_detail  properties_felt  ...  \\\n",
       "0  https://earthquake.usgs.gov/fdsnws/event/1/que...              NaN  ...   \n",
       "1  https://earthquake.usgs.gov/fdsnws/event/1/que...              NaN  ...   \n",
       "2  https://earthquake.usgs.gov/fdsnws/event/1/que...              NaN  ...   \n",
       "3  https://earthquake.usgs.gov/fdsnws/event/1/que...              NaN  ...   \n",
       "4  https://earthquake.usgs.gov/fdsnws/event/1/que...              NaN  ...   \n",
       "\n",
       "   properties_nst  properties_dmin properties_rms properties_gap  \\\n",
       "0            19.0        16.495000           0.45           99.0   \n",
       "1            14.0         1.110400           0.44          270.0   \n",
       "2             6.0              NaN           0.06          217.0   \n",
       "3            21.0         0.007542           0.02           96.0   \n",
       "4             5.0         0.092310           0.08          242.0   \n",
       "\n",
       "   properties_magType  properties_type  \\\n",
       "0                  mb       earthquake   \n",
       "1                  md       earthquake   \n",
       "2                  ml       earthquake   \n",
       "3                  md       earthquake   \n",
       "4                  md       earthquake   \n",
       "\n",
       "                          properties_title geometry_type  \\\n",
       "0  M 4.2 - 5 km NNE of Jayapura, Indonesia         Point   \n",
       "1  M 3.6 - 103 km N of Suárez, Puerto Rico         Point   \n",
       "2     M -0.8 - 85 km NNW of Karluk, Alaska         Point   \n",
       "3       M 0.6 - 10km NW of The Geysers, CA         Point   \n",
       "4                                 M 2.3 -          Point   \n",
       "\n",
       "                  geometry_coordinates  \\\n",
       "0             [140.7385, -2.493, 10.0]   \n",
       "1            [-65.7256, 19.3601, 34.0]   \n",
       "2   [-155.180333333333, 58.2275, 3.08]   \n",
       "3           [-122.8415, 38.8445, 2.06]   \n",
       "4  [-66.8565, 17.8848333333333, 11.19]   \n",
       "\n",
       "                                            metadata  \n",
       "0  {'api': '1.14.0', 'count': 349, 'generated': 1...  \n",
       "1  {'api': '1.14.0', 'count': 349, 'generated': 1...  \n",
       "2  {'api': '1.14.0', 'count': 349, 'generated': 1...  \n",
       "3  {'api': '1.14.0', 'count': 349, 'generated': 1...  \n",
       "4  {'api': '1.14.0', 'count': 349, 'generated': 1...  \n",
       "\n",
       "[5 rows x 31 columns]"
      ]
     },
     "execution_count": 129,
     "metadata": {},
     "output_type": "execute_result"
    }
   ],
   "source": [
    "df_pq = pd.read_parquet(\"data/raw/parquet/data_2023-01-01.parquet\")\n",
    "\n",
    "df_pq.head()"
   ]
  },
  {
   "cell_type": "markdown",
   "id": "24190066-229e-4bc4-b85a-f70f90d49d05",
   "metadata": {
    "jp-MarkdownHeadingCollapsed": true
   },
   "source": [
    "## Upload json and parquet data to data lake"
   ]
  },
  {
   "cell_type": "code",
   "execution_count": null,
   "id": "f0d28e27-462b-4665-a442-9202c6ffb3b7",
   "metadata": {},
   "outputs": [],
   "source": []
  },
  {
   "cell_type": "markdown",
   "id": "88dda993-a771-4a4c-aaaa-3b93e44c961e",
   "metadata": {},
   "source": [
    "# Transform with Spark "
   ]
  },
  {
   "cell_type": "markdown",
   "id": "4b03edad-50a0-44fc-9854-9716654e1945",
   "metadata": {},
   "source": [
    "Berdasarkan eksploratori di atas, atribut yang dapat diambil untuk dijadikan dataset:\n",
    "- properties\n",
    "- geometry\n",
    "- id\n",
    "- metadata generated"
   ]
  },
  {
   "cell_type": "code",
   "execution_count": null,
   "id": "2ebc032c-aef9-452a-9d19-e4c6a0ee9958",
   "metadata": {},
   "outputs": [],
   "source": []
  },
  {
   "cell_type": "code",
   "execution_count": null,
   "id": "c3e15717-6c94-4fa6-966e-a6ba2ad3ae2c",
   "metadata": {},
   "outputs": [],
   "source": []
  },
  {
   "cell_type": "code",
   "execution_count": null,
   "id": "c7f9e3ca-1805-4c48-b289-091acb80bc7b",
   "metadata": {},
   "outputs": [],
   "source": []
  },
  {
   "cell_type": "code",
   "execution_count": null,
   "id": "f986b14d-35d6-4579-b33e-b753177442bb",
   "metadata": {},
   "outputs": [],
   "source": []
  },
  {
   "cell_type": "code",
   "execution_count": null,
   "id": "cbe5c61e-bbbb-4b94-90ac-f7c6d54c4f05",
   "metadata": {},
   "outputs": [],
   "source": []
  },
  {
   "cell_type": "code",
   "execution_count": null,
   "id": "caa54249-af1c-4fe9-b100-8402ad5073ab",
   "metadata": {},
   "outputs": [],
   "source": []
  },
  {
   "cell_type": "code",
   "execution_count": null,
   "id": "6a0a3a2c-9e44-4679-850d-22fa6692f992",
   "metadata": {},
   "outputs": [],
   "source": []
  },
  {
   "cell_type": "code",
   "execution_count": null,
   "id": "09634691-f0bd-4241-8d27-1a4a12a5c098",
   "metadata": {},
   "outputs": [],
   "source": []
  },
  {
   "cell_type": "code",
   "execution_count": null,
   "id": "3b5e9fbc-a2e6-47f0-949c-066d3df7988d",
   "metadata": {},
   "outputs": [],
   "source": []
  }
 ],
 "metadata": {
  "kernelspec": {
   "display_name": "Python 3 (ipykernel)",
   "language": "python",
   "name": "python3"
  },
  "language_info": {
   "codemirror_mode": {
    "name": "ipython",
    "version": 3
   },
   "file_extension": ".py",
   "mimetype": "text/x-python",
   "name": "python",
   "nbconvert_exporter": "python",
   "pygments_lexer": "ipython3",
   "version": "3.9.18"
  }
 },
 "nbformat": 4,
 "nbformat_minor": 5
}
